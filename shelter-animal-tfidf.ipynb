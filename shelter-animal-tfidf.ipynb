{
 "cells": [
  {
   "cell_type": "code",
   "execution_count": 1,
   "metadata": {
    "_cell_guid": "b1076dfc-b9ad-4769-8c92-a6c4dae69d19",
    "_uuid": "8f2839f25d086af736a60e9eeb907d3b93b6e0e5",
    "execution": {
     "iopub.execute_input": "2021-01-12T12:21:07.628476Z",
     "iopub.status.busy": "2021-01-12T12:21:07.627717Z",
     "iopub.status.idle": "2021-01-12T12:21:07.635457Z",
     "shell.execute_reply": "2021-01-12T12:21:07.634500Z"
    },
    "papermill": {
     "duration": 0.03956,
     "end_time": "2021-01-12T12:21:07.635619",
     "exception": false,
     "start_time": "2021-01-12T12:21:07.596059",
     "status": "completed"
    },
    "tags": []
   },
   "outputs": [
    {
     "name": "stdout",
     "output_type": "stream",
     "text": [
      "/kaggle/input/shelter-animal-outcomes/sample_submission.csv.gz\n",
      "/kaggle/input/shelter-animal-outcomes/train.csv.gz\n",
      "/kaggle/input/shelter-animal-outcomes/test.csv.gz\n"
     ]
    }
   ],
   "source": [
    "# This Python 3 environment comes with many helpful analytics libraries installed\n",
    "# It is defined by the kaggle/python Docker image: https://github.com/kaggle/docker-python\n",
    "# For example, here's several helpful packages to load\n",
    "\n",
    "import numpy as np # linear algebra\n",
    "import pandas as pd # data processing, CSV file I/O (e.g. pd.read_csv)\n",
    "\n",
    "# Input data files are available in the read-only \"../input/\" directory\n",
    "# For example, running this (by clicking run or pressing Shift+Enter) will list all files under the input directory\n",
    "\n",
    "import os\n",
    "for dirname, _, filenames in os.walk('/kaggle/input'):\n",
    "    for filename in filenames:\n",
    "        print(os.path.join(dirname, filename))\n",
    "\n",
    "# You can write up to 20GB to the current directory (/kaggle/working/) that gets preserved as output when you create a version using \"Save & Run All\" \n",
    "# You can also write temporary files to /kaggle/temp/, but they won't be saved outside of the current session"
   ]
  },
  {
   "cell_type": "markdown",
   "metadata": {
    "papermill": {
     "duration": 0.023548,
     "end_time": "2021-01-12T12:21:07.684253",
     "exception": false,
     "start_time": "2021-01-12T12:21:07.660705",
     "status": "completed"
    },
    "tags": []
   },
   "source": [
    "# 1. 데이터 가져오기"
   ]
  },
  {
   "cell_type": "code",
   "execution_count": 2,
   "metadata": {
    "_cell_guid": "79c7e3d0-c299-4dcb-8224-4455121ee9b0",
    "_uuid": "d629ff2d2480ee46fbb7e2d37f6b5fab8052498a",
    "execution": {
     "iopub.execute_input": "2021-01-12T12:21:07.737381Z",
     "iopub.status.busy": "2021-01-12T12:21:07.736614Z",
     "iopub.status.idle": "2021-01-12T12:21:07.912437Z",
     "shell.execute_reply": "2021-01-12T12:21:07.911673Z"
    },
    "papermill": {
     "duration": 0.20424,
     "end_time": "2021-01-12T12:21:07.912558",
     "exception": false,
     "start_time": "2021-01-12T12:21:07.708318",
     "status": "completed"
    },
    "tags": []
   },
   "outputs": [],
   "source": [
    "train = pd.read_csv('/kaggle/input/shelter-animal-outcomes/train.csv.gz')\n",
    "test = pd.read_csv('/kaggle/input/shelter-animal-outcomes/test.csv.gz')"
   ]
  },
  {
   "cell_type": "code",
   "execution_count": 3,
   "metadata": {
    "execution": {
     "iopub.execute_input": "2021-01-12T12:21:07.980850Z",
     "iopub.status.busy": "2021-01-12T12:21:07.965606Z",
     "iopub.status.idle": "2021-01-12T12:21:07.996763Z",
     "shell.execute_reply": "2021-01-12T12:21:07.996011Z"
    },
    "papermill": {
     "duration": 0.060249,
     "end_time": "2021-01-12T12:21:07.996878",
     "exception": false,
     "start_time": "2021-01-12T12:21:07.936629",
     "status": "completed"
    },
    "tags": []
   },
   "outputs": [],
   "source": [
    "all_data = pd.concat([train, test]).reset_index(drop=True)"
   ]
  },
  {
   "cell_type": "code",
   "execution_count": 4,
   "metadata": {
    "execution": {
     "iopub.execute_input": "2021-01-12T12:21:08.066804Z",
     "iopub.status.busy": "2021-01-12T12:21:08.066056Z",
     "iopub.status.idle": "2021-01-12T12:21:08.081480Z",
     "shell.execute_reply": "2021-01-12T12:21:08.080873Z"
    },
    "papermill": {
     "duration": 0.060509,
     "end_time": "2021-01-12T12:21:08.081596",
     "exception": false,
     "start_time": "2021-01-12T12:21:08.021087",
     "status": "completed"
    },
    "tags": []
   },
   "outputs": [
    {
     "data": {
      "text/html": [
       "<div>\n",
       "<style scoped>\n",
       "    .dataframe tbody tr th:only-of-type {\n",
       "        vertical-align: middle;\n",
       "    }\n",
       "\n",
       "    .dataframe tbody tr th {\n",
       "        vertical-align: top;\n",
       "    }\n",
       "\n",
       "    .dataframe thead th {\n",
       "        text-align: right;\n",
       "    }\n",
       "</style>\n",
       "<table border=\"1\" class=\"dataframe\">\n",
       "  <thead>\n",
       "    <tr style=\"text-align: right;\">\n",
       "      <th></th>\n",
       "      <th>AnimalID</th>\n",
       "      <th>Name</th>\n",
       "      <th>DateTime</th>\n",
       "      <th>OutcomeType</th>\n",
       "      <th>OutcomeSubtype</th>\n",
       "      <th>AnimalType</th>\n",
       "      <th>SexuponOutcome</th>\n",
       "      <th>AgeuponOutcome</th>\n",
       "      <th>Breed</th>\n",
       "      <th>Color</th>\n",
       "      <th>ID</th>\n",
       "    </tr>\n",
       "  </thead>\n",
       "  <tbody>\n",
       "    <tr>\n",
       "      <th>0</th>\n",
       "      <td>A671945</td>\n",
       "      <td>Hambone</td>\n",
       "      <td>2014-02-12 18:22:00</td>\n",
       "      <td>Return_to_owner</td>\n",
       "      <td>NaN</td>\n",
       "      <td>Dog</td>\n",
       "      <td>Neutered Male</td>\n",
       "      <td>1 year</td>\n",
       "      <td>Shetland Sheepdog Mix</td>\n",
       "      <td>Brown/White</td>\n",
       "      <td>NaN</td>\n",
       "    </tr>\n",
       "    <tr>\n",
       "      <th>1</th>\n",
       "      <td>A656520</td>\n",
       "      <td>Emily</td>\n",
       "      <td>2013-10-13 12:44:00</td>\n",
       "      <td>Euthanasia</td>\n",
       "      <td>Suffering</td>\n",
       "      <td>Cat</td>\n",
       "      <td>Spayed Female</td>\n",
       "      <td>1 year</td>\n",
       "      <td>Domestic Shorthair Mix</td>\n",
       "      <td>Cream Tabby</td>\n",
       "      <td>NaN</td>\n",
       "    </tr>\n",
       "    <tr>\n",
       "      <th>2</th>\n",
       "      <td>A686464</td>\n",
       "      <td>Pearce</td>\n",
       "      <td>2015-01-31 12:28:00</td>\n",
       "      <td>Adoption</td>\n",
       "      <td>Foster</td>\n",
       "      <td>Dog</td>\n",
       "      <td>Neutered Male</td>\n",
       "      <td>2 years</td>\n",
       "      <td>Pit Bull Mix</td>\n",
       "      <td>Blue/White</td>\n",
       "      <td>NaN</td>\n",
       "    </tr>\n",
       "    <tr>\n",
       "      <th>3</th>\n",
       "      <td>A683430</td>\n",
       "      <td>NaN</td>\n",
       "      <td>2014-07-11 19:09:00</td>\n",
       "      <td>Transfer</td>\n",
       "      <td>Partner</td>\n",
       "      <td>Cat</td>\n",
       "      <td>Intact Male</td>\n",
       "      <td>3 weeks</td>\n",
       "      <td>Domestic Shorthair Mix</td>\n",
       "      <td>Blue Cream</td>\n",
       "      <td>NaN</td>\n",
       "    </tr>\n",
       "    <tr>\n",
       "      <th>4</th>\n",
       "      <td>A667013</td>\n",
       "      <td>NaN</td>\n",
       "      <td>2013-11-15 12:52:00</td>\n",
       "      <td>Transfer</td>\n",
       "      <td>Partner</td>\n",
       "      <td>Dog</td>\n",
       "      <td>Neutered Male</td>\n",
       "      <td>2 years</td>\n",
       "      <td>Lhasa Apso/Miniature Poodle</td>\n",
       "      <td>Tan</td>\n",
       "      <td>NaN</td>\n",
       "    </tr>\n",
       "    <tr>\n",
       "      <th>...</th>\n",
       "      <td>...</td>\n",
       "      <td>...</td>\n",
       "      <td>...</td>\n",
       "      <td>...</td>\n",
       "      <td>...</td>\n",
       "      <td>...</td>\n",
       "      <td>...</td>\n",
       "      <td>...</td>\n",
       "      <td>...</td>\n",
       "      <td>...</td>\n",
       "      <td>...</td>\n",
       "    </tr>\n",
       "    <tr>\n",
       "      <th>38180</th>\n",
       "      <td>NaN</td>\n",
       "      <td>NaN</td>\n",
       "      <td>2014-07-08 14:50:00</td>\n",
       "      <td>NaN</td>\n",
       "      <td>NaN</td>\n",
       "      <td>Cat</td>\n",
       "      <td>Neutered Male</td>\n",
       "      <td>2 months</td>\n",
       "      <td>Domestic Shorthair Mix</td>\n",
       "      <td>Black</td>\n",
       "      <td>11452.0</td>\n",
       "    </tr>\n",
       "    <tr>\n",
       "      <th>38181</th>\n",
       "      <td>NaN</td>\n",
       "      <td>NaN</td>\n",
       "      <td>2014-10-21 12:57:00</td>\n",
       "      <td>NaN</td>\n",
       "      <td>NaN</td>\n",
       "      <td>Cat</td>\n",
       "      <td>Intact Female</td>\n",
       "      <td>2 weeks</td>\n",
       "      <td>Domestic Shorthair Mix</td>\n",
       "      <td>Blue</td>\n",
       "      <td>11453.0</td>\n",
       "    </tr>\n",
       "    <tr>\n",
       "      <th>38182</th>\n",
       "      <td>NaN</td>\n",
       "      <td>NaN</td>\n",
       "      <td>2014-09-29 09:00:00</td>\n",
       "      <td>NaN</td>\n",
       "      <td>NaN</td>\n",
       "      <td>Cat</td>\n",
       "      <td>Intact Female</td>\n",
       "      <td>1 year</td>\n",
       "      <td>Domestic Shorthair Mix</td>\n",
       "      <td>Calico</td>\n",
       "      <td>11454.0</td>\n",
       "    </tr>\n",
       "    <tr>\n",
       "      <th>38183</th>\n",
       "      <td>NaN</td>\n",
       "      <td>Rambo</td>\n",
       "      <td>2015-09-05 17:16:00</td>\n",
       "      <td>NaN</td>\n",
       "      <td>NaN</td>\n",
       "      <td>Dog</td>\n",
       "      <td>Neutered Male</td>\n",
       "      <td>6 years</td>\n",
       "      <td>German Shepherd Mix</td>\n",
       "      <td>Black/Tan</td>\n",
       "      <td>11455.0</td>\n",
       "    </tr>\n",
       "    <tr>\n",
       "      <th>38184</th>\n",
       "      <td>NaN</td>\n",
       "      <td>Gusto</td>\n",
       "      <td>2014-07-12 18:40:00</td>\n",
       "      <td>NaN</td>\n",
       "      <td>NaN</td>\n",
       "      <td>Dog</td>\n",
       "      <td>Intact Male</td>\n",
       "      <td>4 years</td>\n",
       "      <td>Labrador Retriever</td>\n",
       "      <td>Cream</td>\n",
       "      <td>11456.0</td>\n",
       "    </tr>\n",
       "  </tbody>\n",
       "</table>\n",
       "<p>38185 rows × 11 columns</p>\n",
       "</div>"
      ],
      "text/plain": [
       "      AnimalID     Name             DateTime      OutcomeType OutcomeSubtype  \\\n",
       "0      A671945  Hambone  2014-02-12 18:22:00  Return_to_owner            NaN   \n",
       "1      A656520    Emily  2013-10-13 12:44:00       Euthanasia      Suffering   \n",
       "2      A686464   Pearce  2015-01-31 12:28:00         Adoption         Foster   \n",
       "3      A683430      NaN  2014-07-11 19:09:00         Transfer        Partner   \n",
       "4      A667013      NaN  2013-11-15 12:52:00         Transfer        Partner   \n",
       "...        ...      ...                  ...              ...            ...   \n",
       "38180      NaN      NaN  2014-07-08 14:50:00              NaN            NaN   \n",
       "38181      NaN      NaN  2014-10-21 12:57:00              NaN            NaN   \n",
       "38182      NaN      NaN  2014-09-29 09:00:00              NaN            NaN   \n",
       "38183      NaN    Rambo  2015-09-05 17:16:00              NaN            NaN   \n",
       "38184      NaN    Gusto  2014-07-12 18:40:00              NaN            NaN   \n",
       "\n",
       "      AnimalType SexuponOutcome AgeuponOutcome                        Breed  \\\n",
       "0            Dog  Neutered Male         1 year        Shetland Sheepdog Mix   \n",
       "1            Cat  Spayed Female         1 year       Domestic Shorthair Mix   \n",
       "2            Dog  Neutered Male        2 years                 Pit Bull Mix   \n",
       "3            Cat    Intact Male        3 weeks       Domestic Shorthair Mix   \n",
       "4            Dog  Neutered Male        2 years  Lhasa Apso/Miniature Poodle   \n",
       "...          ...            ...            ...                          ...   \n",
       "38180        Cat  Neutered Male       2 months       Domestic Shorthair Mix   \n",
       "38181        Cat  Intact Female        2 weeks       Domestic Shorthair Mix   \n",
       "38182        Cat  Intact Female         1 year       Domestic Shorthair Mix   \n",
       "38183        Dog  Neutered Male        6 years          German Shepherd Mix   \n",
       "38184        Dog    Intact Male        4 years           Labrador Retriever   \n",
       "\n",
       "             Color       ID  \n",
       "0      Brown/White      NaN  \n",
       "1      Cream Tabby      NaN  \n",
       "2       Blue/White      NaN  \n",
       "3       Blue Cream      NaN  \n",
       "4              Tan      NaN  \n",
       "...            ...      ...  \n",
       "38180        Black  11452.0  \n",
       "38181         Blue  11453.0  \n",
       "38182       Calico  11454.0  \n",
       "38183    Black/Tan  11455.0  \n",
       "38184        Cream  11456.0  \n",
       "\n",
       "[38185 rows x 11 columns]"
      ]
     },
     "execution_count": 4,
     "metadata": {},
     "output_type": "execute_result"
    }
   ],
   "source": [
    "all_data"
   ]
  },
  {
   "cell_type": "markdown",
   "metadata": {
    "papermill": {
     "duration": 0.024822,
     "end_time": "2021-01-12T12:21:08.131424",
     "exception": false,
     "start_time": "2021-01-12T12:21:08.106602",
     "status": "completed"
    },
    "tags": []
   },
   "source": [
    "# 2. 메타데이터 전처리"
   ]
  },
  {
   "cell_type": "markdown",
   "metadata": {
    "papermill": {
     "duration": 0.024224,
     "end_time": "2021-01-12T12:21:08.180473",
     "exception": false,
     "start_time": "2021-01-12T12:21:08.156249",
     "status": "completed"
    },
    "tags": []
   },
   "source": [
    "## 날짜 데이터 처리하기"
   ]
  },
  {
   "cell_type": "code",
   "execution_count": 5,
   "metadata": {
    "execution": {
     "iopub.execute_input": "2021-01-12T12:21:08.256897Z",
     "iopub.status.busy": "2021-01-12T12:21:08.255708Z",
     "iopub.status.idle": "2021-01-12T12:21:08.305622Z",
     "shell.execute_reply": "2021-01-12T12:21:08.304970Z"
    },
    "papermill": {
     "duration": 0.10054,
     "end_time": "2021-01-12T12:21:08.305734",
     "exception": false,
     "start_time": "2021-01-12T12:21:08.205194",
     "status": "completed"
    },
    "tags": []
   },
   "outputs": [
    {
     "name": "stderr",
     "output_type": "stream",
     "text": [
      "/opt/conda/lib/python3.7/site-packages/ipykernel_launcher.py:8: FutureWarning: Series.dt.weekofyear and Series.dt.week have been deprecated.  Please use Series.dt.isocalendar().week instead.\n",
      "  \n"
     ]
    }
   ],
   "source": [
    "#날짜 처리는 all_data를 concat한 뒤에 바로 추가하는 게 좋음 \n",
    "all_data['DateTime'] = all_data['DateTime'].astype('datetime64')\n",
    "all_data['Year'] = all_data['DateTime'].dt.year\n",
    "all_data['Month'] = all_data['DateTime'].dt.month\n",
    "all_data['Day'] = all_data['DateTime'].dt.day \n",
    "all_data['Hour'] = all_data['DateTime'].dt.hour\n",
    "all_data['Minute'] = all_data['DateTime'].dt.minute\n",
    "all_data['Week'] = all_data['DateTime'].dt.week #공휴일도 영향을 줌 \n",
    "all_data['DayOfWeek'] = all_data['DateTime'].dt.weekday"
   ]
  },
  {
   "cell_type": "markdown",
   "metadata": {
    "papermill": {
     "duration": 0.026262,
     "end_time": "2021-01-12T12:21:08.357318",
     "exception": false,
     "start_time": "2021-01-12T12:21:08.331056",
     "status": "completed"
    },
    "tags": []
   },
   "source": [
    "## AgeuponOutcome 단위 통일하기"
   ]
  },
  {
   "cell_type": "code",
   "execution_count": 6,
   "metadata": {
    "execution": {
     "iopub.execute_input": "2021-01-12T12:21:08.417271Z",
     "iopub.status.busy": "2021-01-12T12:21:08.416481Z",
     "iopub.status.idle": "2021-01-12T12:21:08.419846Z",
     "shell.execute_reply": "2021-01-12T12:21:08.419292Z"
    },
    "papermill": {
     "duration": 0.036397,
     "end_time": "2021-01-12T12:21:08.419988",
     "exception": false,
     "start_time": "2021-01-12T12:21:08.383591",
     "status": "completed"
    },
    "tags": []
   },
   "outputs": [],
   "source": [
    "def age(x): #날짜 단위 통일하는 함수 만들기\n",
    "    \n",
    "    if pd.isnull(x): #결측치 처리(결측치의 dtype이 float)\n",
    "        return -1\n",
    "    num = int(x.split()[0]) \n",
    "    \n",
    "    if 'year' in x:\n",
    "        return 365*num\n",
    "    elif 'month' in x:\n",
    "        return 30*num\n",
    "    elif 'week' in x:\n",
    "        return 7*num\n",
    "    else:\n",
    "        return num"
   ]
  },
  {
   "cell_type": "code",
   "execution_count": 7,
   "metadata": {
    "execution": {
     "iopub.execute_input": "2021-01-12T12:21:08.486400Z",
     "iopub.status.busy": "2021-01-12T12:21:08.475705Z",
     "iopub.status.idle": "2021-01-12T12:21:08.556766Z",
     "shell.execute_reply": "2021-01-12T12:21:08.556183Z"
    },
    "papermill": {
     "duration": 0.111538,
     "end_time": "2021-01-12T12:21:08.556880",
     "exception": false,
     "start_time": "2021-01-12T12:21:08.445342",
     "status": "completed"
    },
    "tags": []
   },
   "outputs": [],
   "source": [
    "all_data['AgeuponOutcome'] = all_data['AgeuponOutcome'].apply(age)"
   ]
  },
  {
   "cell_type": "code",
   "execution_count": 8,
   "metadata": {
    "execution": {
     "iopub.execute_input": "2021-01-12T12:21:08.629629Z",
     "iopub.status.busy": "2021-01-12T12:21:08.628437Z",
     "iopub.status.idle": "2021-01-12T12:21:08.632854Z",
     "shell.execute_reply": "2021-01-12T12:21:08.632228Z"
    },
    "papermill": {
     "duration": 0.050265,
     "end_time": "2021-01-12T12:21:08.632986",
     "exception": false,
     "start_time": "2021-01-12T12:21:08.582721",
     "status": "completed"
    },
    "tags": []
   },
   "outputs": [
    {
     "data": {
      "text/html": [
       "<div>\n",
       "<style scoped>\n",
       "    .dataframe tbody tr th:only-of-type {\n",
       "        vertical-align: middle;\n",
       "    }\n",
       "\n",
       "    .dataframe tbody tr th {\n",
       "        vertical-align: top;\n",
       "    }\n",
       "\n",
       "    .dataframe thead th {\n",
       "        text-align: right;\n",
       "    }\n",
       "</style>\n",
       "<table border=\"1\" class=\"dataframe\">\n",
       "  <thead>\n",
       "    <tr style=\"text-align: right;\">\n",
       "      <th></th>\n",
       "      <th>AnimalID</th>\n",
       "      <th>Name</th>\n",
       "      <th>DateTime</th>\n",
       "      <th>OutcomeType</th>\n",
       "      <th>OutcomeSubtype</th>\n",
       "      <th>AnimalType</th>\n",
       "      <th>SexuponOutcome</th>\n",
       "      <th>AgeuponOutcome</th>\n",
       "      <th>Breed</th>\n",
       "      <th>Color</th>\n",
       "      <th>ID</th>\n",
       "      <th>Year</th>\n",
       "      <th>Month</th>\n",
       "      <th>Day</th>\n",
       "      <th>Hour</th>\n",
       "      <th>Minute</th>\n",
       "      <th>Week</th>\n",
       "      <th>DayOfWeek</th>\n",
       "    </tr>\n",
       "  </thead>\n",
       "  <tbody>\n",
       "    <tr>\n",
       "      <th>0</th>\n",
       "      <td>A671945</td>\n",
       "      <td>Hambone</td>\n",
       "      <td>2014-02-12 18:22:00</td>\n",
       "      <td>Return_to_owner</td>\n",
       "      <td>NaN</td>\n",
       "      <td>Dog</td>\n",
       "      <td>Neutered Male</td>\n",
       "      <td>365</td>\n",
       "      <td>Shetland Sheepdog Mix</td>\n",
       "      <td>Brown/White</td>\n",
       "      <td>NaN</td>\n",
       "      <td>2014</td>\n",
       "      <td>2</td>\n",
       "      <td>12</td>\n",
       "      <td>18</td>\n",
       "      <td>22</td>\n",
       "      <td>7</td>\n",
       "      <td>2</td>\n",
       "    </tr>\n",
       "    <tr>\n",
       "      <th>1</th>\n",
       "      <td>A656520</td>\n",
       "      <td>Emily</td>\n",
       "      <td>2013-10-13 12:44:00</td>\n",
       "      <td>Euthanasia</td>\n",
       "      <td>Suffering</td>\n",
       "      <td>Cat</td>\n",
       "      <td>Spayed Female</td>\n",
       "      <td>365</td>\n",
       "      <td>Domestic Shorthair Mix</td>\n",
       "      <td>Cream Tabby</td>\n",
       "      <td>NaN</td>\n",
       "      <td>2013</td>\n",
       "      <td>10</td>\n",
       "      <td>13</td>\n",
       "      <td>12</td>\n",
       "      <td>44</td>\n",
       "      <td>41</td>\n",
       "      <td>6</td>\n",
       "    </tr>\n",
       "    <tr>\n",
       "      <th>2</th>\n",
       "      <td>A686464</td>\n",
       "      <td>Pearce</td>\n",
       "      <td>2015-01-31 12:28:00</td>\n",
       "      <td>Adoption</td>\n",
       "      <td>Foster</td>\n",
       "      <td>Dog</td>\n",
       "      <td>Neutered Male</td>\n",
       "      <td>730</td>\n",
       "      <td>Pit Bull Mix</td>\n",
       "      <td>Blue/White</td>\n",
       "      <td>NaN</td>\n",
       "      <td>2015</td>\n",
       "      <td>1</td>\n",
       "      <td>31</td>\n",
       "      <td>12</td>\n",
       "      <td>28</td>\n",
       "      <td>5</td>\n",
       "      <td>5</td>\n",
       "    </tr>\n",
       "    <tr>\n",
       "      <th>3</th>\n",
       "      <td>A683430</td>\n",
       "      <td>NaN</td>\n",
       "      <td>2014-07-11 19:09:00</td>\n",
       "      <td>Transfer</td>\n",
       "      <td>Partner</td>\n",
       "      <td>Cat</td>\n",
       "      <td>Intact Male</td>\n",
       "      <td>21</td>\n",
       "      <td>Domestic Shorthair Mix</td>\n",
       "      <td>Blue Cream</td>\n",
       "      <td>NaN</td>\n",
       "      <td>2014</td>\n",
       "      <td>7</td>\n",
       "      <td>11</td>\n",
       "      <td>19</td>\n",
       "      <td>9</td>\n",
       "      <td>28</td>\n",
       "      <td>4</td>\n",
       "    </tr>\n",
       "    <tr>\n",
       "      <th>4</th>\n",
       "      <td>A667013</td>\n",
       "      <td>NaN</td>\n",
       "      <td>2013-11-15 12:52:00</td>\n",
       "      <td>Transfer</td>\n",
       "      <td>Partner</td>\n",
       "      <td>Dog</td>\n",
       "      <td>Neutered Male</td>\n",
       "      <td>730</td>\n",
       "      <td>Lhasa Apso/Miniature Poodle</td>\n",
       "      <td>Tan</td>\n",
       "      <td>NaN</td>\n",
       "      <td>2013</td>\n",
       "      <td>11</td>\n",
       "      <td>15</td>\n",
       "      <td>12</td>\n",
       "      <td>52</td>\n",
       "      <td>46</td>\n",
       "      <td>4</td>\n",
       "    </tr>\n",
       "  </tbody>\n",
       "</table>\n",
       "</div>"
      ],
      "text/plain": [
       "  AnimalID     Name            DateTime      OutcomeType OutcomeSubtype  \\\n",
       "0  A671945  Hambone 2014-02-12 18:22:00  Return_to_owner            NaN   \n",
       "1  A656520    Emily 2013-10-13 12:44:00       Euthanasia      Suffering   \n",
       "2  A686464   Pearce 2015-01-31 12:28:00         Adoption         Foster   \n",
       "3  A683430      NaN 2014-07-11 19:09:00         Transfer        Partner   \n",
       "4  A667013      NaN 2013-11-15 12:52:00         Transfer        Partner   \n",
       "\n",
       "  AnimalType SexuponOutcome  AgeuponOutcome                        Breed  \\\n",
       "0        Dog  Neutered Male             365        Shetland Sheepdog Mix   \n",
       "1        Cat  Spayed Female             365       Domestic Shorthair Mix   \n",
       "2        Dog  Neutered Male             730                 Pit Bull Mix   \n",
       "3        Cat    Intact Male              21       Domestic Shorthair Mix   \n",
       "4        Dog  Neutered Male             730  Lhasa Apso/Miniature Poodle   \n",
       "\n",
       "         Color  ID  Year  Month  Day  Hour  Minute  Week  DayOfWeek  \n",
       "0  Brown/White NaN  2014      2   12    18      22     7          2  \n",
       "1  Cream Tabby NaN  2013     10   13    12      44    41          6  \n",
       "2   Blue/White NaN  2015      1   31    12      28     5          5  \n",
       "3   Blue Cream NaN  2014      7   11    19       9    28          4  \n",
       "4          Tan NaN  2013     11   15    12      52    46          4  "
      ]
     },
     "execution_count": 8,
     "metadata": {},
     "output_type": "execute_result"
    }
   ],
   "source": [
    "all_data.head(5)"
   ]
  },
  {
   "cell_type": "markdown",
   "metadata": {
    "papermill": {
     "duration": 0.025958,
     "end_time": "2021-01-12T12:21:08.685364",
     "exception": false,
     "start_time": "2021-01-12T12:21:08.659406",
     "status": "completed"
    },
    "tags": []
   },
   "source": [
    "## Animal ID Numerical 성격을 살려주기"
   ]
  },
  {
   "cell_type": "code",
   "execution_count": 9,
   "metadata": {
    "execution": {
     "iopub.execute_input": "2021-01-12T12:21:08.749651Z",
     "iopub.status.busy": "2021-01-12T12:21:08.748900Z",
     "iopub.status.idle": "2021-01-12T12:21:08.753403Z",
     "shell.execute_reply": "2021-01-12T12:21:08.753922Z"
    },
    "papermill": {
     "duration": 0.041812,
     "end_time": "2021-01-12T12:21:08.754088",
     "exception": false,
     "start_time": "2021-01-12T12:21:08.712276",
     "status": "completed"
    },
    "tags": []
   },
   "outputs": [],
   "source": [
    "all_data['Name'] = all_data['Name'].notnull()"
   ]
  },
  {
   "cell_type": "code",
   "execution_count": 10,
   "metadata": {
    "execution": {
     "iopub.execute_input": "2021-01-12T12:21:08.813586Z",
     "iopub.status.busy": "2021-01-12T12:21:08.812849Z",
     "iopub.status.idle": "2021-01-12T12:21:08.844652Z",
     "shell.execute_reply": "2021-01-12T12:21:08.844075Z"
    },
    "papermill": {
     "duration": 0.064031,
     "end_time": "2021-01-12T12:21:08.844776",
     "exception": false,
     "start_time": "2021-01-12T12:21:08.780745",
     "status": "completed"
    },
    "tags": []
   },
   "outputs": [],
   "source": [
    "all_data['AnimalID'] = all_data['AnimalID'].apply(str)\n",
    "all_data['AnimalID'] = all_data['AnimalID'].apply(lambda x: x[1:])"
   ]
  },
  {
   "cell_type": "code",
   "execution_count": 11,
   "metadata": {
    "execution": {
     "iopub.execute_input": "2021-01-12T12:21:08.933344Z",
     "iopub.status.busy": "2021-01-12T12:21:08.932456Z",
     "iopub.status.idle": "2021-01-12T12:21:08.936685Z",
     "shell.execute_reply": "2021-01-12T12:21:08.936038Z"
    },
    "papermill": {
     "duration": 0.064607,
     "end_time": "2021-01-12T12:21:08.936795",
     "exception": false,
     "start_time": "2021-01-12T12:21:08.872188",
     "status": "completed"
    },
    "tags": []
   },
   "outputs": [
    {
     "data": {
      "text/html": [
       "<div>\n",
       "<style scoped>\n",
       "    .dataframe tbody tr th:only-of-type {\n",
       "        vertical-align: middle;\n",
       "    }\n",
       "\n",
       "    .dataframe tbody tr th {\n",
       "        vertical-align: top;\n",
       "    }\n",
       "\n",
       "    .dataframe thead th {\n",
       "        text-align: right;\n",
       "    }\n",
       "</style>\n",
       "<table border=\"1\" class=\"dataframe\">\n",
       "  <thead>\n",
       "    <tr style=\"text-align: right;\">\n",
       "      <th></th>\n",
       "      <th>AnimalID</th>\n",
       "      <th>Name</th>\n",
       "      <th>DateTime</th>\n",
       "      <th>OutcomeType</th>\n",
       "      <th>OutcomeSubtype</th>\n",
       "      <th>AnimalType</th>\n",
       "      <th>SexuponOutcome</th>\n",
       "      <th>AgeuponOutcome</th>\n",
       "      <th>Breed</th>\n",
       "      <th>Color</th>\n",
       "      <th>ID</th>\n",
       "      <th>Year</th>\n",
       "      <th>Month</th>\n",
       "      <th>Day</th>\n",
       "      <th>Hour</th>\n",
       "      <th>Minute</th>\n",
       "      <th>Week</th>\n",
       "      <th>DayOfWeek</th>\n",
       "    </tr>\n",
       "  </thead>\n",
       "  <tbody>\n",
       "    <tr>\n",
       "      <th>0</th>\n",
       "      <td>671945</td>\n",
       "      <td>True</td>\n",
       "      <td>2014-02-12 18:22:00</td>\n",
       "      <td>Return_to_owner</td>\n",
       "      <td>NaN</td>\n",
       "      <td>Dog</td>\n",
       "      <td>Neutered Male</td>\n",
       "      <td>365</td>\n",
       "      <td>Shetland Sheepdog Mix</td>\n",
       "      <td>Brown/White</td>\n",
       "      <td>NaN</td>\n",
       "      <td>2014</td>\n",
       "      <td>2</td>\n",
       "      <td>12</td>\n",
       "      <td>18</td>\n",
       "      <td>22</td>\n",
       "      <td>7</td>\n",
       "      <td>2</td>\n",
       "    </tr>\n",
       "    <tr>\n",
       "      <th>1</th>\n",
       "      <td>656520</td>\n",
       "      <td>True</td>\n",
       "      <td>2013-10-13 12:44:00</td>\n",
       "      <td>Euthanasia</td>\n",
       "      <td>Suffering</td>\n",
       "      <td>Cat</td>\n",
       "      <td>Spayed Female</td>\n",
       "      <td>365</td>\n",
       "      <td>Domestic Shorthair Mix</td>\n",
       "      <td>Cream Tabby</td>\n",
       "      <td>NaN</td>\n",
       "      <td>2013</td>\n",
       "      <td>10</td>\n",
       "      <td>13</td>\n",
       "      <td>12</td>\n",
       "      <td>44</td>\n",
       "      <td>41</td>\n",
       "      <td>6</td>\n",
       "    </tr>\n",
       "    <tr>\n",
       "      <th>2</th>\n",
       "      <td>686464</td>\n",
       "      <td>True</td>\n",
       "      <td>2015-01-31 12:28:00</td>\n",
       "      <td>Adoption</td>\n",
       "      <td>Foster</td>\n",
       "      <td>Dog</td>\n",
       "      <td>Neutered Male</td>\n",
       "      <td>730</td>\n",
       "      <td>Pit Bull Mix</td>\n",
       "      <td>Blue/White</td>\n",
       "      <td>NaN</td>\n",
       "      <td>2015</td>\n",
       "      <td>1</td>\n",
       "      <td>31</td>\n",
       "      <td>12</td>\n",
       "      <td>28</td>\n",
       "      <td>5</td>\n",
       "      <td>5</td>\n",
       "    </tr>\n",
       "    <tr>\n",
       "      <th>3</th>\n",
       "      <td>683430</td>\n",
       "      <td>False</td>\n",
       "      <td>2014-07-11 19:09:00</td>\n",
       "      <td>Transfer</td>\n",
       "      <td>Partner</td>\n",
       "      <td>Cat</td>\n",
       "      <td>Intact Male</td>\n",
       "      <td>21</td>\n",
       "      <td>Domestic Shorthair Mix</td>\n",
       "      <td>Blue Cream</td>\n",
       "      <td>NaN</td>\n",
       "      <td>2014</td>\n",
       "      <td>7</td>\n",
       "      <td>11</td>\n",
       "      <td>19</td>\n",
       "      <td>9</td>\n",
       "      <td>28</td>\n",
       "      <td>4</td>\n",
       "    </tr>\n",
       "    <tr>\n",
       "      <th>4</th>\n",
       "      <td>667013</td>\n",
       "      <td>False</td>\n",
       "      <td>2013-11-15 12:52:00</td>\n",
       "      <td>Transfer</td>\n",
       "      <td>Partner</td>\n",
       "      <td>Dog</td>\n",
       "      <td>Neutered Male</td>\n",
       "      <td>730</td>\n",
       "      <td>Lhasa Apso/Miniature Poodle</td>\n",
       "      <td>Tan</td>\n",
       "      <td>NaN</td>\n",
       "      <td>2013</td>\n",
       "      <td>11</td>\n",
       "      <td>15</td>\n",
       "      <td>12</td>\n",
       "      <td>52</td>\n",
       "      <td>46</td>\n",
       "      <td>4</td>\n",
       "    </tr>\n",
       "    <tr>\n",
       "      <th>...</th>\n",
       "      <td>...</td>\n",
       "      <td>...</td>\n",
       "      <td>...</td>\n",
       "      <td>...</td>\n",
       "      <td>...</td>\n",
       "      <td>...</td>\n",
       "      <td>...</td>\n",
       "      <td>...</td>\n",
       "      <td>...</td>\n",
       "      <td>...</td>\n",
       "      <td>...</td>\n",
       "      <td>...</td>\n",
       "      <td>...</td>\n",
       "      <td>...</td>\n",
       "      <td>...</td>\n",
       "      <td>...</td>\n",
       "      <td>...</td>\n",
       "      <td>...</td>\n",
       "    </tr>\n",
       "    <tr>\n",
       "      <th>38180</th>\n",
       "      <td>an</td>\n",
       "      <td>False</td>\n",
       "      <td>2014-07-08 14:50:00</td>\n",
       "      <td>NaN</td>\n",
       "      <td>NaN</td>\n",
       "      <td>Cat</td>\n",
       "      <td>Neutered Male</td>\n",
       "      <td>60</td>\n",
       "      <td>Domestic Shorthair Mix</td>\n",
       "      <td>Black</td>\n",
       "      <td>11452.0</td>\n",
       "      <td>2014</td>\n",
       "      <td>7</td>\n",
       "      <td>8</td>\n",
       "      <td>14</td>\n",
       "      <td>50</td>\n",
       "      <td>28</td>\n",
       "      <td>1</td>\n",
       "    </tr>\n",
       "    <tr>\n",
       "      <th>38181</th>\n",
       "      <td>an</td>\n",
       "      <td>False</td>\n",
       "      <td>2014-10-21 12:57:00</td>\n",
       "      <td>NaN</td>\n",
       "      <td>NaN</td>\n",
       "      <td>Cat</td>\n",
       "      <td>Intact Female</td>\n",
       "      <td>14</td>\n",
       "      <td>Domestic Shorthair Mix</td>\n",
       "      <td>Blue</td>\n",
       "      <td>11453.0</td>\n",
       "      <td>2014</td>\n",
       "      <td>10</td>\n",
       "      <td>21</td>\n",
       "      <td>12</td>\n",
       "      <td>57</td>\n",
       "      <td>43</td>\n",
       "      <td>1</td>\n",
       "    </tr>\n",
       "    <tr>\n",
       "      <th>38182</th>\n",
       "      <td>an</td>\n",
       "      <td>False</td>\n",
       "      <td>2014-09-29 09:00:00</td>\n",
       "      <td>NaN</td>\n",
       "      <td>NaN</td>\n",
       "      <td>Cat</td>\n",
       "      <td>Intact Female</td>\n",
       "      <td>365</td>\n",
       "      <td>Domestic Shorthair Mix</td>\n",
       "      <td>Calico</td>\n",
       "      <td>11454.0</td>\n",
       "      <td>2014</td>\n",
       "      <td>9</td>\n",
       "      <td>29</td>\n",
       "      <td>9</td>\n",
       "      <td>0</td>\n",
       "      <td>40</td>\n",
       "      <td>0</td>\n",
       "    </tr>\n",
       "    <tr>\n",
       "      <th>38183</th>\n",
       "      <td>an</td>\n",
       "      <td>True</td>\n",
       "      <td>2015-09-05 17:16:00</td>\n",
       "      <td>NaN</td>\n",
       "      <td>NaN</td>\n",
       "      <td>Dog</td>\n",
       "      <td>Neutered Male</td>\n",
       "      <td>2190</td>\n",
       "      <td>German Shepherd Mix</td>\n",
       "      <td>Black/Tan</td>\n",
       "      <td>11455.0</td>\n",
       "      <td>2015</td>\n",
       "      <td>9</td>\n",
       "      <td>5</td>\n",
       "      <td>17</td>\n",
       "      <td>16</td>\n",
       "      <td>36</td>\n",
       "      <td>5</td>\n",
       "    </tr>\n",
       "    <tr>\n",
       "      <th>38184</th>\n",
       "      <td>an</td>\n",
       "      <td>True</td>\n",
       "      <td>2014-07-12 18:40:00</td>\n",
       "      <td>NaN</td>\n",
       "      <td>NaN</td>\n",
       "      <td>Dog</td>\n",
       "      <td>Intact Male</td>\n",
       "      <td>1460</td>\n",
       "      <td>Labrador Retriever</td>\n",
       "      <td>Cream</td>\n",
       "      <td>11456.0</td>\n",
       "      <td>2014</td>\n",
       "      <td>7</td>\n",
       "      <td>12</td>\n",
       "      <td>18</td>\n",
       "      <td>40</td>\n",
       "      <td>28</td>\n",
       "      <td>5</td>\n",
       "    </tr>\n",
       "  </tbody>\n",
       "</table>\n",
       "<p>38185 rows × 18 columns</p>\n",
       "</div>"
      ],
      "text/plain": [
       "      AnimalID   Name            DateTime      OutcomeType OutcomeSubtype  \\\n",
       "0       671945   True 2014-02-12 18:22:00  Return_to_owner            NaN   \n",
       "1       656520   True 2013-10-13 12:44:00       Euthanasia      Suffering   \n",
       "2       686464   True 2015-01-31 12:28:00         Adoption         Foster   \n",
       "3       683430  False 2014-07-11 19:09:00         Transfer        Partner   \n",
       "4       667013  False 2013-11-15 12:52:00         Transfer        Partner   \n",
       "...        ...    ...                 ...              ...            ...   \n",
       "38180       an  False 2014-07-08 14:50:00              NaN            NaN   \n",
       "38181       an  False 2014-10-21 12:57:00              NaN            NaN   \n",
       "38182       an  False 2014-09-29 09:00:00              NaN            NaN   \n",
       "38183       an   True 2015-09-05 17:16:00              NaN            NaN   \n",
       "38184       an   True 2014-07-12 18:40:00              NaN            NaN   \n",
       "\n",
       "      AnimalType SexuponOutcome  AgeuponOutcome                        Breed  \\\n",
       "0            Dog  Neutered Male             365        Shetland Sheepdog Mix   \n",
       "1            Cat  Spayed Female             365       Domestic Shorthair Mix   \n",
       "2            Dog  Neutered Male             730                 Pit Bull Mix   \n",
       "3            Cat    Intact Male              21       Domestic Shorthair Mix   \n",
       "4            Dog  Neutered Male             730  Lhasa Apso/Miniature Poodle   \n",
       "...          ...            ...             ...                          ...   \n",
       "38180        Cat  Neutered Male              60       Domestic Shorthair Mix   \n",
       "38181        Cat  Intact Female              14       Domestic Shorthair Mix   \n",
       "38182        Cat  Intact Female             365       Domestic Shorthair Mix   \n",
       "38183        Dog  Neutered Male            2190          German Shepherd Mix   \n",
       "38184        Dog    Intact Male            1460           Labrador Retriever   \n",
       "\n",
       "             Color       ID  Year  Month  Day  Hour  Minute  Week  DayOfWeek  \n",
       "0      Brown/White      NaN  2014      2   12    18      22     7          2  \n",
       "1      Cream Tabby      NaN  2013     10   13    12      44    41          6  \n",
       "2       Blue/White      NaN  2015      1   31    12      28     5          5  \n",
       "3       Blue Cream      NaN  2014      7   11    19       9    28          4  \n",
       "4              Tan      NaN  2013     11   15    12      52    46          4  \n",
       "...            ...      ...   ...    ...  ...   ...     ...   ...        ...  \n",
       "38180        Black  11452.0  2014      7    8    14      50    28          1  \n",
       "38181         Blue  11453.0  2014     10   21    12      57    43          1  \n",
       "38182       Calico  11454.0  2014      9   29     9       0    40          0  \n",
       "38183    Black/Tan  11455.0  2015      9    5    17      16    36          5  \n",
       "38184        Cream  11456.0  2014      7   12    18      40    28          5  \n",
       "\n",
       "[38185 rows x 18 columns]"
      ]
     },
     "execution_count": 11,
     "metadata": {},
     "output_type": "execute_result"
    }
   ],
   "source": [
    "all_data"
   ]
  },
  {
   "cell_type": "markdown",
   "metadata": {
    "papermill": {
     "duration": 0.027708,
     "end_time": "2021-01-12T12:21:08.992792",
     "exception": false,
     "start_time": "2021-01-12T12:21:08.965084",
     "status": "completed"
    },
    "tags": []
   },
   "source": [
    "## 텍스트 데이터 vectorize 사용하기"
   ]
  },
  {
   "cell_type": "code",
   "execution_count": 12,
   "metadata": {
    "execution": {
     "iopub.execute_input": "2021-01-12T12:21:09.055149Z",
     "iopub.status.busy": "2021-01-12T12:21:09.054414Z",
     "iopub.status.idle": "2021-01-12T12:21:10.738348Z",
     "shell.execute_reply": "2021-01-12T12:21:10.738963Z"
    },
    "papermill": {
     "duration": 1.718321,
     "end_time": "2021-01-12T12:21:10.739120",
     "exception": false,
     "start_time": "2021-01-12T12:21:09.020799",
     "status": "completed"
    },
    "tags": []
   },
   "outputs": [],
   "source": [
    "from sklearn.feature_extraction.text import TfidfVectorizer\n",
    "vectorizer = TfidfVectorizer()\n",
    "breed_text = vectorizer.fit_transform(all_data['Breed']).toarray()\n",
    "\n",
    "vectorizer = TfidfVectorizer()\n",
    "color_text = vectorizer.fit_transform(all_data['Color']).toarray()"
   ]
  },
  {
   "cell_type": "code",
   "execution_count": 13,
   "metadata": {
    "execution": {
     "iopub.execute_input": "2021-01-12T12:21:10.797491Z",
     "iopub.status.busy": "2021-01-12T12:21:10.796719Z",
     "iopub.status.idle": "2021-01-12T12:21:11.444285Z",
     "shell.execute_reply": "2021-01-12T12:21:11.443687Z"
    },
    "papermill": {
     "duration": 0.677732,
     "end_time": "2021-01-12T12:21:11.444423",
     "exception": false,
     "start_time": "2021-01-12T12:21:10.766691",
     "status": "completed"
    },
    "tags": []
   },
   "outputs": [
    {
     "data": {
      "text/plain": [
       "array([[ 0.04707169,  0.02519441,  0.01397944, ...,  0.00413413,\n",
       "         0.01687155, -0.00240925],\n",
       "       [ 0.99449628, -0.04320528, -0.03968845, ...,  0.00402912,\n",
       "         0.0040981 ,  0.00387179],\n",
       "       [ 0.12788388,  0.95402749, -0.2664519 , ..., -0.01042206,\n",
       "        -0.0239517 ,  0.01154868],\n",
       "       ...,\n",
       "       [ 0.99449628, -0.04320528, -0.03968845, ...,  0.00402912,\n",
       "         0.0040981 ,  0.00387179],\n",
       "       [ 0.09154683,  0.08398613,  0.1198004 , ..., -0.23416689,\n",
       "         0.01568873, -0.00291674],\n",
       "       [ 0.0176188 ,  0.24462142,  0.88029282, ..., -0.02614256,\n",
       "        -0.04043364,  0.00607334]])"
      ]
     },
     "execution_count": 13,
     "metadata": {},
     "output_type": "execute_result"
    }
   ],
   "source": [
    "from sklearn.decomposition import TruncatedSVD\n",
    "svd = TruncatedSVD(n_components=10) #n_components를 변경해가면서 적정한 차원을 설정 (for loop)\n",
    "breed_svd = svd.fit_transform(breed_text)\n",
    "breed_svd"
   ]
  },
  {
   "cell_type": "code",
   "execution_count": 14,
   "metadata": {
    "execution": {
     "iopub.execute_input": "2021-01-12T12:21:11.521709Z",
     "iopub.status.busy": "2021-01-12T12:21:11.520325Z",
     "iopub.status.idle": "2021-01-12T12:21:11.696602Z",
     "shell.execute_reply": "2021-01-12T12:21:11.695880Z"
    },
    "papermill": {
     "duration": 0.223295,
     "end_time": "2021-01-12T12:21:11.696753",
     "exception": false,
     "start_time": "2021-01-12T12:21:11.473458",
     "status": "completed"
    },
    "tags": []
   },
   "outputs": [
    {
     "data": {
      "text/plain": [
       "array([[ 6.07995290e-01,  6.24923323e-01,  9.68839977e-02, ...,\n",
       "        -2.51950339e-02, -3.57435185e-02, -7.68960604e-03],\n",
       "       [ 8.40863293e-02,  2.46263029e-01, -8.33209746e-02, ...,\n",
       "         2.69588074e-02, -2.20658660e-01,  5.32465229e-02],\n",
       "       [ 3.25392177e-01,  1.44662753e-01,  5.00208206e-01, ...,\n",
       "        -1.67185147e-02,  4.90766564e-02, -6.27879897e-03],\n",
       "       ...,\n",
       "       [ 1.04182974e-03,  4.64804165e-04,  1.86416085e-03, ...,\n",
       "        -1.55480945e-03, -3.57043129e-03,  2.68156940e-02],\n",
       "       [ 5.10892105e-01, -3.51989608e-01,  1.37841955e-01, ...,\n",
       "         1.29539221e-02,  2.17972506e-02,  1.28629322e-03],\n",
       "       [ 9.31152176e-03,  1.81503161e-02,  5.32989050e-03, ...,\n",
       "         1.45088380e-02, -1.45746306e-01,  5.53738058e-02]])"
      ]
     },
     "execution_count": 14,
     "metadata": {},
     "output_type": "execute_result"
    }
   ],
   "source": [
    "svd = TruncatedSVD(n_components=10) \n",
    "color_svd = svd.fit_transform(color_text)\n",
    "color_svd"
   ]
  },
  {
   "cell_type": "code",
   "execution_count": 15,
   "metadata": {
    "execution": {
     "iopub.execute_input": "2021-01-12T12:21:11.768781Z",
     "iopub.status.busy": "2021-01-12T12:21:11.767444Z",
     "iopub.status.idle": "2021-01-12T12:21:11.809201Z",
     "shell.execute_reply": "2021-01-12T12:21:11.808614Z"
    },
    "papermill": {
     "duration": 0.078619,
     "end_time": "2021-01-12T12:21:11.809339",
     "exception": false,
     "start_time": "2021-01-12T12:21:11.730720",
     "status": "completed"
    },
    "tags": []
   },
   "outputs": [],
   "source": [
    "all_data = pd.concat([all_data,pd.DataFrame(breed_svd)],axis=1)\n",
    "all_data = pd.concat([all_data,pd.DataFrame(color_svd)],axis=1)"
   ]
  },
  {
   "cell_type": "markdown",
   "metadata": {
    "papermill": {
     "duration": 0.028553,
     "end_time": "2021-01-12T12:21:11.867248",
     "exception": false,
     "start_time": "2021-01-12T12:21:11.838695",
     "status": "completed"
    },
    "tags": []
   },
   "source": [
    "## all_data2 데이터 셋 만들기"
   ]
  },
  {
   "cell_type": "code",
   "execution_count": 16,
   "metadata": {
    "execution": {
     "iopub.execute_input": "2021-01-12T12:21:11.933606Z",
     "iopub.status.busy": "2021-01-12T12:21:11.932792Z",
     "iopub.status.idle": "2021-01-12T12:21:12.017180Z",
     "shell.execute_reply": "2021-01-12T12:21:12.017950Z"
    },
    "papermill": {
     "duration": 0.120816,
     "end_time": "2021-01-12T12:21:12.018119",
     "exception": false,
     "start_time": "2021-01-12T12:21:11.897303",
     "status": "completed"
    },
    "tags": []
   },
   "outputs": [
    {
     "ename": "KeyError",
     "evalue": "\"['DateTime' 'OutcomeSubtype' 'OutcomeType' 'Breed' 'ColorID'] not found in axis\"",
     "output_type": "error",
     "traceback": [
      "\u001b[0;31m---------------------------------------------------------------------------\u001b[0m",
      "\u001b[0;31mKeyError\u001b[0m                                  Traceback (most recent call last)",
      "\u001b[0;32m<ipython-input-16-bed96b39c29c>\u001b[0m in \u001b[0;36m<module>\u001b[0;34m\u001b[0m\n\u001b[0;32m----> 1\u001b[0;31m \u001b[0mall_data2\u001b[0m \u001b[0;34m=\u001b[0m \u001b[0mall_data\u001b[0m\u001b[0;34m.\u001b[0m\u001b[0mdrop\u001b[0m\u001b[0;34m(\u001b[0m\u001b[0mcolumns\u001b[0m\u001b[0;34m=\u001b[0m\u001b[0;34m[\u001b[0m\u001b[0;34m'DateTime'\u001b[0m\u001b[0;34m,\u001b[0m\u001b[0;34m'OutcomeSubtype'\u001b[0m\u001b[0;34m,\u001b[0m\u001b[0;34m'OutcomeType'\u001b[0m\u001b[0;34m,\u001b[0m\u001b[0;34m'Breed'\u001b[0m\u001b[0;34m,\u001b[0m\u001b[0;34m'Color'\u001b[0m\u001b[0;34m'ID'\u001b[0m\u001b[0;34m]\u001b[0m\u001b[0;34m)\u001b[0m\u001b[0;34m\u001b[0m\u001b[0;34m\u001b[0m\u001b[0m\n\u001b[0m\u001b[1;32m      2\u001b[0m \u001b[0;31m#AnimalID도 도움이 될 수도 있음 - 데이터가 숫자적인 관계를 지닐수도 있어서, or 알파벳이 의미를 지닐 수도 있음\u001b[0m\u001b[0;34m\u001b[0m\u001b[0;34m\u001b[0m\u001b[0;34m\u001b[0m\u001b[0m\n",
      "\u001b[0;32m/opt/conda/lib/python3.7/site-packages/pandas/core/frame.py\u001b[0m in \u001b[0;36mdrop\u001b[0;34m(self, labels, axis, index, columns, level, inplace, errors)\u001b[0m\n\u001b[1;32m   4172\u001b[0m             \u001b[0mlevel\u001b[0m\u001b[0;34m=\u001b[0m\u001b[0mlevel\u001b[0m\u001b[0;34m,\u001b[0m\u001b[0;34m\u001b[0m\u001b[0;34m\u001b[0m\u001b[0m\n\u001b[1;32m   4173\u001b[0m             \u001b[0minplace\u001b[0m\u001b[0;34m=\u001b[0m\u001b[0minplace\u001b[0m\u001b[0;34m,\u001b[0m\u001b[0;34m\u001b[0m\u001b[0;34m\u001b[0m\u001b[0m\n\u001b[0;32m-> 4174\u001b[0;31m             \u001b[0merrors\u001b[0m\u001b[0;34m=\u001b[0m\u001b[0merrors\u001b[0m\u001b[0;34m,\u001b[0m\u001b[0;34m\u001b[0m\u001b[0;34m\u001b[0m\u001b[0m\n\u001b[0m\u001b[1;32m   4175\u001b[0m         )\n\u001b[1;32m   4176\u001b[0m \u001b[0;34m\u001b[0m\u001b[0m\n",
      "\u001b[0;32m/opt/conda/lib/python3.7/site-packages/pandas/core/generic.py\u001b[0m in \u001b[0;36mdrop\u001b[0;34m(self, labels, axis, index, columns, level, inplace, errors)\u001b[0m\n\u001b[1;32m   3887\u001b[0m         \u001b[0;32mfor\u001b[0m \u001b[0maxis\u001b[0m\u001b[0;34m,\u001b[0m \u001b[0mlabels\u001b[0m \u001b[0;32min\u001b[0m \u001b[0maxes\u001b[0m\u001b[0;34m.\u001b[0m\u001b[0mitems\u001b[0m\u001b[0;34m(\u001b[0m\u001b[0;34m)\u001b[0m\u001b[0;34m:\u001b[0m\u001b[0;34m\u001b[0m\u001b[0;34m\u001b[0m\u001b[0m\n\u001b[1;32m   3888\u001b[0m             \u001b[0;32mif\u001b[0m \u001b[0mlabels\u001b[0m \u001b[0;32mis\u001b[0m \u001b[0;32mnot\u001b[0m \u001b[0;32mNone\u001b[0m\u001b[0;34m:\u001b[0m\u001b[0;34m\u001b[0m\u001b[0;34m\u001b[0m\u001b[0m\n\u001b[0;32m-> 3889\u001b[0;31m                 \u001b[0mobj\u001b[0m \u001b[0;34m=\u001b[0m \u001b[0mobj\u001b[0m\u001b[0;34m.\u001b[0m\u001b[0m_drop_axis\u001b[0m\u001b[0;34m(\u001b[0m\u001b[0mlabels\u001b[0m\u001b[0;34m,\u001b[0m \u001b[0maxis\u001b[0m\u001b[0;34m,\u001b[0m \u001b[0mlevel\u001b[0m\u001b[0;34m=\u001b[0m\u001b[0mlevel\u001b[0m\u001b[0;34m,\u001b[0m \u001b[0merrors\u001b[0m\u001b[0;34m=\u001b[0m\u001b[0merrors\u001b[0m\u001b[0;34m)\u001b[0m\u001b[0;34m\u001b[0m\u001b[0;34m\u001b[0m\u001b[0m\n\u001b[0m\u001b[1;32m   3890\u001b[0m \u001b[0;34m\u001b[0m\u001b[0m\n\u001b[1;32m   3891\u001b[0m         \u001b[0;32mif\u001b[0m \u001b[0minplace\u001b[0m\u001b[0;34m:\u001b[0m\u001b[0;34m\u001b[0m\u001b[0;34m\u001b[0m\u001b[0m\n",
      "\u001b[0;32m/opt/conda/lib/python3.7/site-packages/pandas/core/generic.py\u001b[0m in \u001b[0;36m_drop_axis\u001b[0;34m(self, labels, axis, level, errors)\u001b[0m\n\u001b[1;32m   3940\u001b[0m                 \u001b[0mlabels_missing\u001b[0m \u001b[0;34m=\u001b[0m \u001b[0;34m(\u001b[0m\u001b[0maxis\u001b[0m\u001b[0;34m.\u001b[0m\u001b[0mget_indexer_for\u001b[0m\u001b[0;34m(\u001b[0m\u001b[0mlabels\u001b[0m\u001b[0;34m)\u001b[0m \u001b[0;34m==\u001b[0m \u001b[0;34m-\u001b[0m\u001b[0;36m1\u001b[0m\u001b[0;34m)\u001b[0m\u001b[0;34m.\u001b[0m\u001b[0many\u001b[0m\u001b[0;34m(\u001b[0m\u001b[0;34m)\u001b[0m\u001b[0;34m\u001b[0m\u001b[0;34m\u001b[0m\u001b[0m\n\u001b[1;32m   3941\u001b[0m                 \u001b[0;32mif\u001b[0m \u001b[0merrors\u001b[0m \u001b[0;34m==\u001b[0m \u001b[0;34m\"raise\"\u001b[0m \u001b[0;32mand\u001b[0m \u001b[0mlabels_missing\u001b[0m\u001b[0;34m:\u001b[0m\u001b[0;34m\u001b[0m\u001b[0;34m\u001b[0m\u001b[0m\n\u001b[0;32m-> 3942\u001b[0;31m                     \u001b[0;32mraise\u001b[0m \u001b[0mKeyError\u001b[0m\u001b[0;34m(\u001b[0m\u001b[0;34mf\"{labels} not found in axis\"\u001b[0m\u001b[0;34m)\u001b[0m\u001b[0;34m\u001b[0m\u001b[0;34m\u001b[0m\u001b[0m\n\u001b[0m\u001b[1;32m   3943\u001b[0m \u001b[0;34m\u001b[0m\u001b[0m\n\u001b[1;32m   3944\u001b[0m             \u001b[0mslicer\u001b[0m \u001b[0;34m=\u001b[0m \u001b[0;34m[\u001b[0m\u001b[0mslice\u001b[0m\u001b[0;34m(\u001b[0m\u001b[0;32mNone\u001b[0m\u001b[0;34m)\u001b[0m\u001b[0;34m]\u001b[0m \u001b[0;34m*\u001b[0m \u001b[0mself\u001b[0m\u001b[0;34m.\u001b[0m\u001b[0mndim\u001b[0m\u001b[0;34m\u001b[0m\u001b[0;34m\u001b[0m\u001b[0m\n",
      "\u001b[0;31mKeyError\u001b[0m: \"['DateTime' 'OutcomeSubtype' 'OutcomeType' 'Breed' 'ColorID'] not found in axis\""
     ]
    }
   ],
   "source": [
    "all_data2 = all_data.drop(columns=['DateTime','OutcomeSubtype','OutcomeType','Breed','Color''ID']) \n",
    "#AnimalID도 도움이 될 수도 있음 - 데이터가 숫자적인 관계를 지닐수도 있어서, or 알파벳이 의미를 지닐 수도 있음 "
   ]
  },
  {
   "cell_type": "code",
   "execution_count": 17,
   "metadata": {
    "execution": {
     "iopub.execute_input": "2021-01-12T12:21:12.080680Z",
     "iopub.status.busy": "2021-01-12T12:21:12.080012Z",
     "iopub.status.idle": "2021-01-12T12:21:12.094133Z",
     "shell.execute_reply": "2021-01-12T12:21:12.094665Z"
    },
    "papermill": {
     "duration": 0.046727,
     "end_time": "2021-01-12T12:21:12.094809",
     "exception": false,
     "start_time": "2021-01-12T12:21:12.048082",
     "status": "completed"
    },
    "tags": []
   },
   "outputs": [
    {
     "ename": "NameError",
     "evalue": "name 'all_data2' is not defined",
     "output_type": "error",
     "traceback": [
      "\u001b[0;31m---------------------------------------------------------------------------\u001b[0m",
      "\u001b[0;31mNameError\u001b[0m                                 Traceback (most recent call last)",
      "\u001b[0;32m<ipython-input-17-c264991892ac>\u001b[0m in \u001b[0;36m<module>\u001b[0;34m\u001b[0m\n\u001b[0;32m----> 1\u001b[0;31m \u001b[0mall_data2\u001b[0m\u001b[0;34m\u001b[0m\u001b[0;34m\u001b[0m\u001b[0m\n\u001b[0m",
      "\u001b[0;31mNameError\u001b[0m: name 'all_data2' is not defined"
     ]
    }
   ],
   "source": [
    "all_data2"
   ]
  },
  {
   "cell_type": "code",
   "execution_count": 18,
   "metadata": {
    "execution": {
     "iopub.execute_input": "2021-01-12T12:21:12.160113Z",
     "iopub.status.busy": "2021-01-12T12:21:12.159486Z",
     "iopub.status.idle": "2021-01-12T12:21:12.173776Z",
     "shell.execute_reply": "2021-01-12T12:21:12.174395Z"
    },
    "papermill": {
     "duration": 0.048218,
     "end_time": "2021-01-12T12:21:12.174542",
     "exception": false,
     "start_time": "2021-01-12T12:21:12.126324",
     "status": "completed"
    },
    "tags": []
   },
   "outputs": [
    {
     "ename": "NameError",
     "evalue": "name 'all_data2' is not defined",
     "output_type": "error",
     "traceback": [
      "\u001b[0;31m---------------------------------------------------------------------------\u001b[0m",
      "\u001b[0;31mNameError\u001b[0m                                 Traceback (most recent call last)",
      "\u001b[0;32m<ipython-input-18-6f1172ab0b19>\u001b[0m in \u001b[0;36m<module>\u001b[0;34m\u001b[0m\n\u001b[0;32m----> 1\u001b[0;31m \u001b[0mall_data2\u001b[0m\u001b[0;34m[\u001b[0m\u001b[0;34m'Name'\u001b[0m\u001b[0;34m]\u001b[0m\u001b[0;34m.\u001b[0m\u001b[0mastype\u001b[0m\u001b[0;34m(\u001b[0m\u001b[0mstr\u001b[0m\u001b[0;34m)\u001b[0m \u001b[0;31m#series\u001b[0m\u001b[0;34m\u001b[0m\u001b[0;34m\u001b[0m\u001b[0m\n\u001b[0m\u001b[1;32m      2\u001b[0m \u001b[0mlist\u001b[0m\u001b[0;34m(\u001b[0m\u001b[0mall_data2\u001b[0m\u001b[0;34m[\u001b[0m\u001b[0;34m'Name'\u001b[0m\u001b[0;34m]\u001b[0m\u001b[0;34m)\u001b[0m\u001b[0;34m\u001b[0m\u001b[0;34m\u001b[0m\u001b[0m\n\u001b[1;32m      3\u001b[0m \u001b[0;34m\u001b[0m\u001b[0m\n",
      "\u001b[0;31mNameError\u001b[0m: name 'all_data2' is not defined"
     ]
    }
   ],
   "source": [
    "all_data2['Name'].astype(str) #series \n",
    "list(all_data2['Name'])\n",
    "\n"
   ]
  },
  {
   "cell_type": "markdown",
   "metadata": {
    "papermill": {
     "duration": 0.031028,
     "end_time": "2021-01-12T12:21:12.236230",
     "exception": false,
     "start_time": "2021-01-12T12:21:12.205202",
     "status": "completed"
    },
    "tags": []
   },
   "source": [
    "## 데이터 분포 살펴보기"
   ]
  },
  {
   "cell_type": "code",
   "execution_count": 19,
   "metadata": {
    "execution": {
     "iopub.execute_input": "2021-01-12T12:21:12.300622Z",
     "iopub.status.busy": "2021-01-12T12:21:12.300005Z",
     "iopub.status.idle": "2021-01-12T12:21:13.031947Z",
     "shell.execute_reply": "2021-01-12T12:21:13.031293Z"
    },
    "papermill": {
     "duration": 0.76518,
     "end_time": "2021-01-12T12:21:13.032061",
     "exception": false,
     "start_time": "2021-01-12T12:21:12.266881",
     "status": "completed"
    },
    "tags": []
   },
   "outputs": [
    {
     "data": {
      "text/plain": [
       "<matplotlib.axes._subplots.AxesSubplot at 0x7fe954269fd0>"
      ]
     },
     "execution_count": 19,
     "metadata": {},
     "output_type": "execute_result"
    },
    {
     "data": {
      "image/png": "[encoded data removed]",
      "text/plain": [
       "<Figure size 864x432 with 1 Axes>"
      ]
     },
     "metadata": {
      "needs_background": "light"
     },
     "output_type": "display_data"
    }
   ],
   "source": [
    "import matplotlib.pyplot as plt\n",
    "import seaborn as sns\n",
    "plt.figure(figsize=(12,6))\n",
    "sns.countplot(all_data['Hour'], hue=all_data['OutcomeType']) #둘 다 문자일 때 countplot\n",
    "#입양이 많은 시간 \n",
    "#Transfer를 보내는 시간이 정해져있을 수 있음(자정, 오전9시)"
   ]
  },
  {
   "cell_type": "code",
   "execution_count": 20,
   "metadata": {
    "execution": {
     "iopub.execute_input": "2021-01-12T12:21:13.111683Z",
     "iopub.status.busy": "2021-01-12T12:21:13.110965Z",
     "iopub.status.idle": "2021-01-12T12:21:14.633302Z",
     "shell.execute_reply": "2021-01-12T12:21:14.632622Z"
    },
    "papermill": {
     "duration": 1.557641,
     "end_time": "2021-01-12T12:21:14.633418",
     "exception": false,
     "start_time": "2021-01-12T12:21:13.075777",
     "status": "completed"
    },
    "tags": []
   },
   "outputs": [
    {
     "data": {
      "text/plain": [
       "<matplotlib.axes._subplots.AxesSubplot at 0x7fe945b38610>"
      ]
     },
     "execution_count": 20,
     "metadata": {},
     "output_type": "execute_result"
    },
    {
     "data": {
      "image/png": "[encoded data removed]",
      "text/plain": [
       "<Figure size 1152x576 with 1 Axes>"
      ]
     },
     "metadata": {
      "needs_background": "light"
     },
     "output_type": "display_data"
    }
   ],
   "source": [
    "plt.figure(figsize=(16,8))\n",
    "sns.countplot(all_data['Minute'],hue=all_data['OutcomeType'])\n",
    "#모델이 '분'을 카테고리컬 형식으로 학습을 함 <- 특정 분에 따라서 변하게 \n",
    "#categorical 느낌이 많은데 모델이 numerical로 학습하면 결과가 안좋아짐 >>> categorical로 인식하도록 명령해줘야 함"
   ]
  },
  {
   "cell_type": "markdown",
   "metadata": {
    "papermill": {
     "duration": 0.033252,
     "end_time": "2021-01-12T12:21:14.700134",
     "exception": false,
     "start_time": "2021-01-12T12:21:14.666882",
     "status": "completed"
    },
    "tags": []
   },
   "source": [
    "## LabelEncoder 처리하여, Categorical변수 학습 가능하도록 만들기"
   ]
  },
  {
   "cell_type": "code",
   "execution_count": 21,
   "metadata": {
    "execution": {
     "iopub.execute_input": "2021-01-12T12:21:14.779684Z",
     "iopub.status.busy": "2021-01-12T12:21:14.775189Z",
     "iopub.status.idle": "2021-01-12T12:21:14.796253Z",
     "shell.execute_reply": "2021-01-12T12:21:14.795660Z"
    },
    "papermill": {
     "duration": 0.061994,
     "end_time": "2021-01-12T12:21:14.796374",
     "exception": false,
     "start_time": "2021-01-12T12:21:14.734380",
     "status": "completed"
    },
    "tags": []
   },
   "outputs": [
    {
     "ename": "NameError",
     "evalue": "name 'all_data2' is not defined",
     "output_type": "error",
     "traceback": [
      "\u001b[0;31m---------------------------------------------------------------------------\u001b[0m",
      "\u001b[0;31mNameError\u001b[0m                                 Traceback (most recent call last)",
      "\u001b[0;32m<ipython-input-21-a794fe28df24>\u001b[0m in \u001b[0;36m<module>\u001b[0;34m\u001b[0m\n\u001b[1;32m      2\u001b[0m \u001b[0;34m\u001b[0m\u001b[0m\n\u001b[1;32m      3\u001b[0m \u001b[0mle\u001b[0m \u001b[0;34m=\u001b[0m \u001b[0mLabelEncoder\u001b[0m\u001b[0;34m(\u001b[0m\u001b[0;34m)\u001b[0m\u001b[0;34m\u001b[0m\u001b[0;34m\u001b[0m\u001b[0m\n\u001b[0;32m----> 4\u001b[0;31m \u001b[0mc\u001b[0m \u001b[0;34m=\u001b[0m \u001b[0mall_data2\u001b[0m\u001b[0;34m.\u001b[0m\u001b[0mcolumns\u001b[0m\u001b[0;34m[\u001b[0m\u001b[0mall_data2\u001b[0m\u001b[0;34m.\u001b[0m\u001b[0mdtypes\u001b[0m \u001b[0;34m==\u001b[0m \u001b[0mobject\u001b[0m\u001b[0;34m]\u001b[0m\u001b[0;34m\u001b[0m\u001b[0;34m\u001b[0m\u001b[0m\n\u001b[0m\u001b[1;32m      5\u001b[0m \u001b[0;32mfor\u001b[0m \u001b[0mi\u001b[0m \u001b[0;32min\u001b[0m \u001b[0mc\u001b[0m\u001b[0;34m:\u001b[0m\u001b[0;34m\u001b[0m\u001b[0;34m\u001b[0m\u001b[0m\n\u001b[1;32m      6\u001b[0m     \u001b[0mall_data2\u001b[0m\u001b[0;34m[\u001b[0m\u001b[0mi\u001b[0m\u001b[0;34m]\u001b[0m \u001b[0;34m=\u001b[0m \u001b[0mle\u001b[0m\u001b[0;34m.\u001b[0m\u001b[0mfit_transform\u001b[0m\u001b[0;34m(\u001b[0m\u001b[0mlist\u001b[0m\u001b[0;34m(\u001b[0m\u001b[0mall_data2\u001b[0m\u001b[0;34m[\u001b[0m\u001b[0mi\u001b[0m\u001b[0;34m]\u001b[0m\u001b[0;34m)\u001b[0m\u001b[0;34m)\u001b[0m \u001b[0;31m#float: 결측치를 float으로 알아들음 -> *******결측치가 list를 만나면 string으로 받아들여짐\u001b[0m\u001b[0;34m\u001b[0m\u001b[0;34m\u001b[0m\u001b[0m\n",
      "\u001b[0;31mNameError\u001b[0m: name 'all_data2' is not defined"
     ]
    }
   ],
   "source": [
    "from sklearn.preprocessing import LabelEncoder\n",
    "\n",
    "le = LabelEncoder()\n",
    "c = all_data2.columns[all_data2.dtypes == object]\n",
    "for i in c:\n",
    "    all_data2[i] = le.fit_transform(list(all_data2[i])) #float: 결측치를 float으로 알아들음 -> *******결측치가 list를 만나면 string으로 받아들여짐 "
   ]
  },
  {
   "cell_type": "code",
   "execution_count": 22,
   "metadata": {
    "execution": {
     "iopub.execute_input": "2021-01-12T12:21:14.880398Z",
     "iopub.status.busy": "2021-01-12T12:21:14.879572Z",
     "iopub.status.idle": "2021-01-12T12:21:14.884242Z",
     "shell.execute_reply": "2021-01-12T12:21:14.883545Z"
    },
    "papermill": {
     "duration": 0.053947,
     "end_time": "2021-01-12T12:21:14.884353",
     "exception": false,
     "start_time": "2021-01-12T12:21:14.830406",
     "status": "completed"
    },
    "tags": []
   },
   "outputs": [
    {
     "ename": "NameError",
     "evalue": "name 'all_data2' is not defined",
     "output_type": "error",
     "traceback": [
      "\u001b[0;31m---------------------------------------------------------------------------\u001b[0m",
      "\u001b[0;31mNameError\u001b[0m                                 Traceback (most recent call last)",
      "\u001b[0;32m<ipython-input-22-082f98623f45>\u001b[0m in \u001b[0;36m<module>\u001b[0;34m\u001b[0m\n\u001b[0;32m----> 1\u001b[0;31m \u001b[0mall_data2\u001b[0m \u001b[0;34m=\u001b[0m \u001b[0mall_data2\u001b[0m\u001b[0;34m.\u001b[0m\u001b[0mfillna\u001b[0m\u001b[0;34m(\u001b[0m\u001b[0;34m-\u001b[0m\u001b[0;36m1\u001b[0m\u001b[0;34m)\u001b[0m\u001b[0;34m\u001b[0m\u001b[0;34m\u001b[0m\u001b[0m\n\u001b[0m",
      "\u001b[0;31mNameError\u001b[0m: name 'all_data2' is not defined"
     ]
    }
   ],
   "source": [
    "all_data2 = all_data2.fillna(-1)"
   ]
  },
  {
   "cell_type": "code",
   "execution_count": 23,
   "metadata": {
    "execution": {
     "iopub.execute_input": "2021-01-12T12:21:14.970627Z",
     "iopub.status.busy": "2021-01-12T12:21:14.969774Z",
     "iopub.status.idle": "2021-01-12T12:21:14.974415Z",
     "shell.execute_reply": "2021-01-12T12:21:14.973761Z"
    },
    "papermill": {
     "duration": 0.054951,
     "end_time": "2021-01-12T12:21:14.974530",
     "exception": false,
     "start_time": "2021-01-12T12:21:14.919579",
     "status": "completed"
    },
    "tags": []
   },
   "outputs": [
    {
     "ename": "NameError",
     "evalue": "name 'all_data2' is not defined",
     "output_type": "error",
     "traceback": [
      "\u001b[0;31m---------------------------------------------------------------------------\u001b[0m",
      "\u001b[0;31mNameError\u001b[0m                                 Traceback (most recent call last)",
      "\u001b[0;32m<ipython-input-23-238e48528951>\u001b[0m in \u001b[0;36m<module>\u001b[0;34m\u001b[0m\n\u001b[0;32m----> 1\u001b[0;31m \u001b[0mtrain2\u001b[0m \u001b[0;34m=\u001b[0m \u001b[0mall_data2\u001b[0m\u001b[0;34m[\u001b[0m\u001b[0;34m:\u001b[0m\u001b[0mlen\u001b[0m\u001b[0;34m(\u001b[0m\u001b[0mtrain\u001b[0m\u001b[0;34m)\u001b[0m\u001b[0;34m]\u001b[0m\u001b[0;34m\u001b[0m\u001b[0;34m\u001b[0m\u001b[0m\n\u001b[0m\u001b[1;32m      2\u001b[0m \u001b[0mtest2\u001b[0m \u001b[0;34m=\u001b[0m \u001b[0mall_data2\u001b[0m\u001b[0;34m[\u001b[0m\u001b[0mlen\u001b[0m\u001b[0;34m(\u001b[0m\u001b[0mtrain\u001b[0m\u001b[0;34m)\u001b[0m\u001b[0;34m:\u001b[0m\u001b[0;34m]\u001b[0m\u001b[0;34m\u001b[0m\u001b[0;34m\u001b[0m\u001b[0m\n",
      "\u001b[0;31mNameError\u001b[0m: name 'all_data2' is not defined"
     ]
    }
   ],
   "source": [
    "train2 = all_data2[:len(train)]\n",
    "test2 = all_data2[len(train):]"
   ]
  },
  {
   "cell_type": "code",
   "execution_count": 24,
   "metadata": {
    "execution": {
     "iopub.execute_input": "2021-01-12T12:21:15.058664Z",
     "iopub.status.busy": "2021-01-12T12:21:15.057882Z",
     "iopub.status.idle": "2021-01-12T12:21:15.063204Z",
     "shell.execute_reply": "2021-01-12T12:21:15.062536Z"
    },
    "papermill": {
     "duration": 0.05358,
     "end_time": "2021-01-12T12:21:15.063334",
     "exception": false,
     "start_time": "2021-01-12T12:21:15.009754",
     "status": "completed"
    },
    "tags": []
   },
   "outputs": [
    {
     "ename": "NameError",
     "evalue": "name 'train2' is not defined",
     "output_type": "error",
     "traceback": [
      "\u001b[0;31m---------------------------------------------------------------------------\u001b[0m",
      "\u001b[0;31mNameError\u001b[0m                                 Traceback (most recent call last)",
      "\u001b[0;32m<ipython-input-24-04d7f189627d>\u001b[0m in \u001b[0;36m<module>\u001b[0;34m\u001b[0m\n\u001b[0;32m----> 1\u001b[0;31m \u001b[0mtrain2\u001b[0m\u001b[0;34m\u001b[0m\u001b[0;34m\u001b[0m\u001b[0m\n\u001b[0m",
      "\u001b[0;31mNameError\u001b[0m: name 'train2' is not defined"
     ]
    }
   ],
   "source": [
    "train2"
   ]
  },
  {
   "cell_type": "markdown",
   "metadata": {
    "papermill": {
     "duration": 0.035416,
     "end_time": "2021-01-12T12:21:15.134383",
     "exception": false,
     "start_time": "2021-01-12T12:21:15.098967",
     "status": "completed"
    },
    "tags": []
   },
   "source": [
    "# 3.학습시키기 (Catboost)"
   ]
  },
  {
   "cell_type": "code",
   "execution_count": 25,
   "metadata": {
    "execution": {
     "iopub.execute_input": "2021-01-12T12:21:15.212309Z",
     "iopub.status.busy": "2021-01-12T12:21:15.211564Z",
     "iopub.status.idle": "2021-01-12T12:21:15.386998Z",
     "shell.execute_reply": "2021-01-12T12:21:15.386308Z"
    },
    "papermill": {
     "duration": 0.217117,
     "end_time": "2021-01-12T12:21:15.387119",
     "exception": false,
     "start_time": "2021-01-12T12:21:15.170002",
     "status": "completed"
    },
    "tags": []
   },
   "outputs": [
    {
     "ename": "NameError",
     "evalue": "name 'train2' is not defined",
     "output_type": "error",
     "traceback": [
      "\u001b[0;31m---------------------------------------------------------------------------\u001b[0m",
      "\u001b[0;31mNameError\u001b[0m                                 Traceback (most recent call last)",
      "\u001b[0;32m<ipython-input-25-ebdfebe6cacb>\u001b[0m in \u001b[0;36m<module>\u001b[0;34m\u001b[0m\n\u001b[1;32m      2\u001b[0m \u001b[0;32mfrom\u001b[0m \u001b[0mcatboost\u001b[0m \u001b[0;32mimport\u001b[0m \u001b[0mCatBoostClassifier\u001b[0m\u001b[0;34m\u001b[0m\u001b[0;34m\u001b[0m\u001b[0m\n\u001b[1;32m      3\u001b[0m \u001b[0mcbc\u001b[0m \u001b[0;34m=\u001b[0m \u001b[0mCatBoostClassifier\u001b[0m\u001b[0;34m(\u001b[0m\u001b[0;34m)\u001b[0m\u001b[0;34m\u001b[0m\u001b[0;34m\u001b[0m\u001b[0m\n\u001b[0;32m----> 4\u001b[0;31m \u001b[0mcbc\u001b[0m\u001b[0;34m.\u001b[0m\u001b[0mfit\u001b[0m\u001b[0;34m(\u001b[0m\u001b[0mtrain2\u001b[0m\u001b[0;34m,\u001b[0m \u001b[0mtrain\u001b[0m\u001b[0;34m[\u001b[0m\u001b[0;34m'OutcomeType'\u001b[0m\u001b[0;34m]\u001b[0m\u001b[0;34m,\u001b[0m \u001b[0mcat_features\u001b[0m\u001b[0;34m=\u001b[0m\u001b[0;34m[\u001b[0m\u001b[0;36m1\u001b[0m\u001b[0;34m,\u001b[0m\u001b[0;36m5\u001b[0m\u001b[0;34m,\u001b[0m\u001b[0;36m6\u001b[0m\u001b[0;34m]\u001b[0m\u001b[0;34m)\u001b[0m\u001b[0;34m\u001b[0m\u001b[0;34m\u001b[0m\u001b[0m\n\u001b[0m\u001b[1;32m      5\u001b[0m \u001b[0mresult\u001b[0m \u001b[0;34m=\u001b[0m \u001b[0mcbc\u001b[0m\u001b[0;34m.\u001b[0m\u001b[0mpredict_proba\u001b[0m\u001b[0;34m(\u001b[0m\u001b[0mtest2\u001b[0m\u001b[0;34m)\u001b[0m\u001b[0;34m\u001b[0m\u001b[0;34m\u001b[0m\u001b[0m\n",
      "\u001b[0;31mNameError\u001b[0m: name 'train2' is not defined"
     ]
    }
   ],
   "source": [
    "#GPU는 랜덤성이 있음 (시드값 줘도)\n",
    "from catboost import CatBoostClassifier\n",
    "cbc = CatBoostClassifier()\n",
    "cbc.fit(train2, train['OutcomeType'], cat_features=[1,5,6])\n",
    "result = cbc.predict_proba(test2)"
   ]
  },
  {
   "cell_type": "code",
   "execution_count": 26,
   "metadata": {
    "execution": {
     "iopub.execute_input": "2021-01-12T12:21:15.465189Z",
     "iopub.status.busy": "2021-01-12T12:21:15.464516Z",
     "iopub.status.idle": "2021-01-12T12:21:15.481499Z",
     "shell.execute_reply": "2021-01-12T12:21:15.482076Z"
    },
    "papermill": {
     "duration": 0.058556,
     "end_time": "2021-01-12T12:21:15.482231",
     "exception": false,
     "start_time": "2021-01-12T12:21:15.423675",
     "status": "completed"
    },
    "tags": []
   },
   "outputs": [],
   "source": [
    "sub = pd.read_csv('/kaggle/input/shelter-animal-outcomes/sample_submission.csv.gz')"
   ]
  },
  {
   "cell_type": "code",
   "execution_count": 27,
   "metadata": {
    "execution": {
     "iopub.execute_input": "2021-01-12T12:21:15.559637Z",
     "iopub.status.busy": "2021-01-12T12:21:15.558945Z",
     "iopub.status.idle": "2021-01-12T12:21:15.575978Z",
     "shell.execute_reply": "2021-01-12T12:21:15.575427Z"
    },
    "papermill": {
     "duration": 0.056878,
     "end_time": "2021-01-12T12:21:15.576102",
     "exception": false,
     "start_time": "2021-01-12T12:21:15.519224",
     "status": "completed"
    },
    "tags": []
   },
   "outputs": [
    {
     "ename": "NameError",
     "evalue": "name 'result' is not defined",
     "output_type": "error",
     "traceback": [
      "\u001b[0;31m---------------------------------------------------------------------------\u001b[0m",
      "\u001b[0;31mNameError\u001b[0m                                 Traceback (most recent call last)",
      "\u001b[0;32m<ipython-input-27-1b60556a5309>\u001b[0m in \u001b[0;36m<module>\u001b[0;34m\u001b[0m\n\u001b[0;32m----> 1\u001b[0;31m \u001b[0msub\u001b[0m\u001b[0;34m.\u001b[0m\u001b[0miloc\u001b[0m\u001b[0;34m[\u001b[0m\u001b[0;34m:\u001b[0m\u001b[0;34m,\u001b[0m\u001b[0;36m1\u001b[0m\u001b[0;34m:\u001b[0m\u001b[0;34m]\u001b[0m \u001b[0;34m=\u001b[0m \u001b[0mresult\u001b[0m\u001b[0;34m\u001b[0m\u001b[0;34m\u001b[0m\u001b[0m\n\u001b[0m",
      "\u001b[0;31mNameError\u001b[0m: name 'result' is not defined"
     ]
    }
   ],
   "source": [
    "sub.iloc[:,1:] = result "
   ]
  },
  {
   "cell_type": "code",
   "execution_count": 28,
   "metadata": {
    "execution": {
     "iopub.execute_input": "2021-01-12T12:21:15.656128Z",
     "iopub.status.busy": "2021-01-12T12:21:15.655460Z",
     "iopub.status.idle": "2021-01-12T12:21:15.968514Z",
     "shell.execute_reply": "2021-01-12T12:21:15.967797Z"
    },
    "papermill": {
     "duration": 0.355216,
     "end_time": "2021-01-12T12:21:15.968630",
     "exception": false,
     "start_time": "2021-01-12T12:21:15.613414",
     "status": "completed"
    },
    "tags": []
   },
   "outputs": [],
   "source": [
    "sub.to_csv('submission.csv', index=False)"
   ]
  },
  {
   "cell_type": "code",
   "execution_count": null,
   "metadata": {
    "papermill": {
     "duration": 0.037015,
     "end_time": "2021-01-12T12:21:16.044648",
     "exception": false,
     "start_time": "2021-01-12T12:21:16.007633",
     "status": "completed"
    },
    "tags": []
   },
   "outputs": [],
   "source": []
  }
 ],
 "metadata": {
  "kernelspec": {
   "display_name": "Python 3",
   "language": "python",
   "name": "python3"
  },
  "language_info": {
   "codemirror_mode": {
    "name": "ipython",
    "version": 3
   },
   "file_extension": ".py",
   "mimetype": "text/x-python",
   "name": "python",
   "nbconvert_exporter": "python",
   "pygments_lexer": "ipython3",
   "version": "3.7.6"
  },
  "papermill": {
   "duration": 13.475199,
   "end_time": "2021-01-12T12:21:16.189467",
   "environment_variables": {},
   "exception": null,
   "input_path": "__notebook__.ipynb",
   "output_path": "__notebook__.ipynb",
   "parameters": {},
   "start_time": "2021-01-12T12:21:02.714268",
   "version": "2.1.0"
  }
 },
 "nbformat": 4,
 "nbformat_minor": 4
}
