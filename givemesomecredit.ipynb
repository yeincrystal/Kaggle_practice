{
 "cells": [
  {
   "cell_type": "code",
   "execution_count": 1,
   "metadata": {
    "_cell_guid": "b1076dfc-b9ad-4769-8c92-a6c4dae69d19",
    "_uuid": "8f2839f25d086af736a60e9eeb907d3b93b6e0e5",
    "execution": {
     "iopub.execute_input": "2021-01-03T12:05:17.291221Z",
     "iopub.status.busy": "2021-01-03T12:05:17.290053Z",
     "iopub.status.idle": "2021-01-03T12:05:17.298477Z",
     "shell.execute_reply": "2021-01-03T12:05:17.297782Z"
    },
    "papermill": {
     "duration": 0.046848,
     "end_time": "2021-01-03T12:05:17.298609",
     "exception": false,
     "start_time": "2021-01-03T12:05:17.251761",
     "status": "completed"
    },
    "tags": []
   },
   "outputs": [
    {
     "name": "stdout",
     "output_type": "stream",
     "text": [
      "/kaggle/input/GiveMeSomeCredit/Data Dictionary.xls\n",
      "/kaggle/input/GiveMeSomeCredit/cs-training.csv\n",
      "/kaggle/input/GiveMeSomeCredit/sampleEntry.csv\n",
      "/kaggle/input/GiveMeSomeCredit/cs-test.csv\n"
     ]
    }
   ],
   "source": [
    "# This Python 3 environment comes with many helpful analytics libraries installed\n",
    "# It is defined by the kaggle/python Docker image: https://github.com/kaggle/docker-python\n",
    "# For example, here's several helpful packages to load\n",
    "\n",
    "import numpy as np # linear algebra\n",
    "import pandas as pd # data processing, CSV file I/O (e.g. pd.read_csv)\n",
    "\n",
    "# Input data files are available in the read-only \"../input/\" directory\n",
    "# For example, running this (by clicking run or pressing Shift+Enter) will list all files under the input directory\n",
    "\n",
    "import os\n",
    "for dirname, _, filenames in os.walk('/kaggle/input'):\n",
    "    for filename in filenames:\n",
    "        print(os.path.join(dirname, filename))\n",
    "\n",
    "# You can write up to 20GB to the current directory (/kaggle/working/) that gets preserved as output when you create a version using \"Save & Run All\" \n",
    "# You can also write temporary files to /kaggle/temp/, but they won't be saved outside of the current session"
   ]
  },
  {
   "cell_type": "code",
   "execution_count": 2,
   "metadata": {
    "_cell_guid": "79c7e3d0-c299-4dcb-8224-4455121ee9b0",
    "_uuid": "d629ff2d2480ee46fbb7e2d37f6b5fab8052498a",
    "execution": {
     "iopub.execute_input": "2021-01-03T12:05:17.361758Z",
     "iopub.status.busy": "2021-01-03T12:05:17.361017Z",
     "iopub.status.idle": "2021-01-03T12:05:17.959789Z",
     "shell.execute_reply": "2021-01-03T12:05:17.959113Z"
    },
    "papermill": {
     "duration": 0.63308,
     "end_time": "2021-01-03T12:05:17.959912",
     "exception": false,
     "start_time": "2021-01-03T12:05:17.326832",
     "status": "completed"
    },
    "tags": []
   },
   "outputs": [],
   "source": [
    "train = pd.read_csv('/kaggle/input/GiveMeSomeCredit/cs-training.csv')\n",
    "test = pd.read_csv('/kaggle/input/GiveMeSomeCredit/cs-test.csv')"
   ]
  },
  {
   "cell_type": "code",
   "execution_count": 3,
   "metadata": {
    "execution": {
     "iopub.execute_input": "2021-01-03T12:05:18.026961Z",
     "iopub.status.busy": "2021-01-03T12:05:18.025924Z",
     "iopub.status.idle": "2021-01-03T12:05:18.121954Z",
     "shell.execute_reply": "2021-01-03T12:05:18.122532Z"
    },
    "papermill": {
     "duration": 0.134845,
     "end_time": "2021-01-03T12:05:18.122708",
     "exception": false,
     "start_time": "2021-01-03T12:05:17.987863",
     "status": "completed"
    },
    "tags": []
   },
   "outputs": [
    {
     "data": {
      "text/html": [
       "<div>\n",
       "<style scoped>\n",
       "    .dataframe tbody tr th:only-of-type {\n",
       "        vertical-align: middle;\n",
       "    }\n",
       "\n",
       "    .dataframe tbody tr th {\n",
       "        vertical-align: top;\n",
       "    }\n",
       "\n",
       "    .dataframe thead th {\n",
       "        text-align: right;\n",
       "    }\n",
       "</style>\n",
       "<table border=\"1\" class=\"dataframe\">\n",
       "  <thead>\n",
       "    <tr style=\"text-align: right;\">\n",
       "      <th></th>\n",
       "      <th>Unnamed: 0</th>\n",
       "      <th>SeriousDlqin2yrs</th>\n",
       "      <th>RevolvingUtilizationOfUnsecuredLines</th>\n",
       "      <th>age</th>\n",
       "      <th>NumberOfTime30-59DaysPastDueNotWorse</th>\n",
       "      <th>DebtRatio</th>\n",
       "      <th>MonthlyIncome</th>\n",
       "      <th>NumberOfOpenCreditLinesAndLoans</th>\n",
       "      <th>NumberOfTimes90DaysLate</th>\n",
       "      <th>NumberRealEstateLoansOrLines</th>\n",
       "      <th>NumberOfTime60-89DaysPastDueNotWorse</th>\n",
       "      <th>NumberOfDependents</th>\n",
       "    </tr>\n",
       "  </thead>\n",
       "  <tbody>\n",
       "    <tr>\n",
       "      <th>0</th>\n",
       "      <td>1</td>\n",
       "      <td>1</td>\n",
       "      <td>0.766127</td>\n",
       "      <td>45</td>\n",
       "      <td>2</td>\n",
       "      <td>0.802982</td>\n",
       "      <td>9120.0</td>\n",
       "      <td>13</td>\n",
       "      <td>0</td>\n",
       "      <td>6</td>\n",
       "      <td>0</td>\n",
       "      <td>2.0</td>\n",
       "    </tr>\n",
       "    <tr>\n",
       "      <th>1</th>\n",
       "      <td>2</td>\n",
       "      <td>0</td>\n",
       "      <td>0.957151</td>\n",
       "      <td>40</td>\n",
       "      <td>0</td>\n",
       "      <td>0.121876</td>\n",
       "      <td>2600.0</td>\n",
       "      <td>4</td>\n",
       "      <td>0</td>\n",
       "      <td>0</td>\n",
       "      <td>0</td>\n",
       "      <td>1.0</td>\n",
       "    </tr>\n",
       "    <tr>\n",
       "      <th>2</th>\n",
       "      <td>3</td>\n",
       "      <td>0</td>\n",
       "      <td>0.658180</td>\n",
       "      <td>38</td>\n",
       "      <td>1</td>\n",
       "      <td>0.085113</td>\n",
       "      <td>3042.0</td>\n",
       "      <td>2</td>\n",
       "      <td>1</td>\n",
       "      <td>0</td>\n",
       "      <td>0</td>\n",
       "      <td>0.0</td>\n",
       "    </tr>\n",
       "    <tr>\n",
       "      <th>3</th>\n",
       "      <td>4</td>\n",
       "      <td>0</td>\n",
       "      <td>0.233810</td>\n",
       "      <td>30</td>\n",
       "      <td>0</td>\n",
       "      <td>0.036050</td>\n",
       "      <td>3300.0</td>\n",
       "      <td>5</td>\n",
       "      <td>0</td>\n",
       "      <td>0</td>\n",
       "      <td>0</td>\n",
       "      <td>0.0</td>\n",
       "    </tr>\n",
       "    <tr>\n",
       "      <th>4</th>\n",
       "      <td>5</td>\n",
       "      <td>0</td>\n",
       "      <td>0.907239</td>\n",
       "      <td>49</td>\n",
       "      <td>1</td>\n",
       "      <td>0.024926</td>\n",
       "      <td>63588.0</td>\n",
       "      <td>7</td>\n",
       "      <td>0</td>\n",
       "      <td>1</td>\n",
       "      <td>0</td>\n",
       "      <td>0.0</td>\n",
       "    </tr>\n",
       "    <tr>\n",
       "      <th>...</th>\n",
       "      <td>...</td>\n",
       "      <td>...</td>\n",
       "      <td>...</td>\n",
       "      <td>...</td>\n",
       "      <td>...</td>\n",
       "      <td>...</td>\n",
       "      <td>...</td>\n",
       "      <td>...</td>\n",
       "      <td>...</td>\n",
       "      <td>...</td>\n",
       "      <td>...</td>\n",
       "      <td>...</td>\n",
       "    </tr>\n",
       "    <tr>\n",
       "      <th>149995</th>\n",
       "      <td>149996</td>\n",
       "      <td>0</td>\n",
       "      <td>0.040674</td>\n",
       "      <td>74</td>\n",
       "      <td>0</td>\n",
       "      <td>0.225131</td>\n",
       "      <td>2100.0</td>\n",
       "      <td>4</td>\n",
       "      <td>0</td>\n",
       "      <td>1</td>\n",
       "      <td>0</td>\n",
       "      <td>0.0</td>\n",
       "    </tr>\n",
       "    <tr>\n",
       "      <th>149996</th>\n",
       "      <td>149997</td>\n",
       "      <td>0</td>\n",
       "      <td>0.299745</td>\n",
       "      <td>44</td>\n",
       "      <td>0</td>\n",
       "      <td>0.716562</td>\n",
       "      <td>5584.0</td>\n",
       "      <td>4</td>\n",
       "      <td>0</td>\n",
       "      <td>1</td>\n",
       "      <td>0</td>\n",
       "      <td>2.0</td>\n",
       "    </tr>\n",
       "    <tr>\n",
       "      <th>149997</th>\n",
       "      <td>149998</td>\n",
       "      <td>0</td>\n",
       "      <td>0.246044</td>\n",
       "      <td>58</td>\n",
       "      <td>0</td>\n",
       "      <td>3870.000000</td>\n",
       "      <td>NaN</td>\n",
       "      <td>18</td>\n",
       "      <td>0</td>\n",
       "      <td>1</td>\n",
       "      <td>0</td>\n",
       "      <td>0.0</td>\n",
       "    </tr>\n",
       "    <tr>\n",
       "      <th>149998</th>\n",
       "      <td>149999</td>\n",
       "      <td>0</td>\n",
       "      <td>0.000000</td>\n",
       "      <td>30</td>\n",
       "      <td>0</td>\n",
       "      <td>0.000000</td>\n",
       "      <td>5716.0</td>\n",
       "      <td>4</td>\n",
       "      <td>0</td>\n",
       "      <td>0</td>\n",
       "      <td>0</td>\n",
       "      <td>0.0</td>\n",
       "    </tr>\n",
       "    <tr>\n",
       "      <th>149999</th>\n",
       "      <td>150000</td>\n",
       "      <td>0</td>\n",
       "      <td>0.850283</td>\n",
       "      <td>64</td>\n",
       "      <td>0</td>\n",
       "      <td>0.249908</td>\n",
       "      <td>8158.0</td>\n",
       "      <td>8</td>\n",
       "      <td>0</td>\n",
       "      <td>2</td>\n",
       "      <td>0</td>\n",
       "      <td>0.0</td>\n",
       "    </tr>\n",
       "  </tbody>\n",
       "</table>\n",
       "<p>150000 rows × 12 columns</p>\n",
       "</div>"
      ],
      "text/plain": [
       "        Unnamed: 0  SeriousDlqin2yrs  RevolvingUtilizationOfUnsecuredLines  \\\n",
       "0                1                 1                              0.766127   \n",
       "1                2                 0                              0.957151   \n",
       "2                3                 0                              0.658180   \n",
       "3                4                 0                              0.233810   \n",
       "4                5                 0                              0.907239   \n",
       "...            ...               ...                                   ...   \n",
       "149995      149996                 0                              0.040674   \n",
       "149996      149997                 0                              0.299745   \n",
       "149997      149998                 0                              0.246044   \n",
       "149998      149999                 0                              0.000000   \n",
       "149999      150000                 0                              0.850283   \n",
       "\n",
       "        age  NumberOfTime30-59DaysPastDueNotWorse    DebtRatio  MonthlyIncome  \\\n",
       "0        45                                     2     0.802982         9120.0   \n",
       "1        40                                     0     0.121876         2600.0   \n",
       "2        38                                     1     0.085113         3042.0   \n",
       "3        30                                     0     0.036050         3300.0   \n",
       "4        49                                     1     0.024926        63588.0   \n",
       "...     ...                                   ...          ...            ...   \n",
       "149995   74                                     0     0.225131         2100.0   \n",
       "149996   44                                     0     0.716562         5584.0   \n",
       "149997   58                                     0  3870.000000            NaN   \n",
       "149998   30                                     0     0.000000         5716.0   \n",
       "149999   64                                     0     0.249908         8158.0   \n",
       "\n",
       "        NumberOfOpenCreditLinesAndLoans  NumberOfTimes90DaysLate  \\\n",
       "0                                    13                        0   \n",
       "1                                     4                        0   \n",
       "2                                     2                        1   \n",
       "3                                     5                        0   \n",
       "4                                     7                        0   \n",
       "...                                 ...                      ...   \n",
       "149995                                4                        0   \n",
       "149996                                4                        0   \n",
       "149997                               18                        0   \n",
       "149998                                4                        0   \n",
       "149999                                8                        0   \n",
       "\n",
       "        NumberRealEstateLoansOrLines  NumberOfTime60-89DaysPastDueNotWorse  \\\n",
       "0                                  6                                     0   \n",
       "1                                  0                                     0   \n",
       "2                                  0                                     0   \n",
       "3                                  0                                     0   \n",
       "4                                  1                                     0   \n",
       "...                              ...                                   ...   \n",
       "149995                             1                                     0   \n",
       "149996                             1                                     0   \n",
       "149997                             1                                     0   \n",
       "149998                             0                                     0   \n",
       "149999                             2                                     0   \n",
       "\n",
       "        NumberOfDependents  \n",
       "0                      2.0  \n",
       "1                      1.0  \n",
       "2                      0.0  \n",
       "3                      0.0  \n",
       "4                      0.0  \n",
       "...                    ...  \n",
       "149995                 0.0  \n",
       "149996                 2.0  \n",
       "149997                 0.0  \n",
       "149998                 0.0  \n",
       "149999                 0.0  \n",
       "\n",
       "[150000 rows x 12 columns]"
      ]
     },
     "metadata": {},
     "output_type": "display_data"
    },
    {
     "data": {
      "text/html": [
       "<div>\n",
       "<style scoped>\n",
       "    .dataframe tbody tr th:only-of-type {\n",
       "        vertical-align: middle;\n",
       "    }\n",
       "\n",
       "    .dataframe tbody tr th {\n",
       "        vertical-align: top;\n",
       "    }\n",
       "\n",
       "    .dataframe thead th {\n",
       "        text-align: right;\n",
       "    }\n",
       "</style>\n",
       "<table border=\"1\" class=\"dataframe\">\n",
       "  <thead>\n",
       "    <tr style=\"text-align: right;\">\n",
       "      <th></th>\n",
       "      <th>Unnamed: 0</th>\n",
       "      <th>SeriousDlqin2yrs</th>\n",
       "      <th>RevolvingUtilizationOfUnsecuredLines</th>\n",
       "      <th>age</th>\n",
       "      <th>NumberOfTime30-59DaysPastDueNotWorse</th>\n",
       "      <th>DebtRatio</th>\n",
       "      <th>MonthlyIncome</th>\n",
       "      <th>NumberOfOpenCreditLinesAndLoans</th>\n",
       "      <th>NumberOfTimes90DaysLate</th>\n",
       "      <th>NumberRealEstateLoansOrLines</th>\n",
       "      <th>NumberOfTime60-89DaysPastDueNotWorse</th>\n",
       "      <th>NumberOfDependents</th>\n",
       "    </tr>\n",
       "  </thead>\n",
       "  <tbody>\n",
       "    <tr>\n",
       "      <th>0</th>\n",
       "      <td>1</td>\n",
       "      <td>NaN</td>\n",
       "      <td>0.885519</td>\n",
       "      <td>43</td>\n",
       "      <td>0</td>\n",
       "      <td>0.177513</td>\n",
       "      <td>5700.0</td>\n",
       "      <td>4</td>\n",
       "      <td>0</td>\n",
       "      <td>0</td>\n",
       "      <td>0</td>\n",
       "      <td>0.0</td>\n",
       "    </tr>\n",
       "    <tr>\n",
       "      <th>1</th>\n",
       "      <td>2</td>\n",
       "      <td>NaN</td>\n",
       "      <td>0.463295</td>\n",
       "      <td>57</td>\n",
       "      <td>0</td>\n",
       "      <td>0.527237</td>\n",
       "      <td>9141.0</td>\n",
       "      <td>15</td>\n",
       "      <td>0</td>\n",
       "      <td>4</td>\n",
       "      <td>0</td>\n",
       "      <td>2.0</td>\n",
       "    </tr>\n",
       "    <tr>\n",
       "      <th>2</th>\n",
       "      <td>3</td>\n",
       "      <td>NaN</td>\n",
       "      <td>0.043275</td>\n",
       "      <td>59</td>\n",
       "      <td>0</td>\n",
       "      <td>0.687648</td>\n",
       "      <td>5083.0</td>\n",
       "      <td>12</td>\n",
       "      <td>0</td>\n",
       "      <td>1</td>\n",
       "      <td>0</td>\n",
       "      <td>2.0</td>\n",
       "    </tr>\n",
       "    <tr>\n",
       "      <th>3</th>\n",
       "      <td>4</td>\n",
       "      <td>NaN</td>\n",
       "      <td>0.280308</td>\n",
       "      <td>38</td>\n",
       "      <td>1</td>\n",
       "      <td>0.925961</td>\n",
       "      <td>3200.0</td>\n",
       "      <td>7</td>\n",
       "      <td>0</td>\n",
       "      <td>2</td>\n",
       "      <td>0</td>\n",
       "      <td>0.0</td>\n",
       "    </tr>\n",
       "    <tr>\n",
       "      <th>4</th>\n",
       "      <td>5</td>\n",
       "      <td>NaN</td>\n",
       "      <td>1.000000</td>\n",
       "      <td>27</td>\n",
       "      <td>0</td>\n",
       "      <td>0.019917</td>\n",
       "      <td>3865.0</td>\n",
       "      <td>4</td>\n",
       "      <td>0</td>\n",
       "      <td>0</td>\n",
       "      <td>0</td>\n",
       "      <td>1.0</td>\n",
       "    </tr>\n",
       "    <tr>\n",
       "      <th>...</th>\n",
       "      <td>...</td>\n",
       "      <td>...</td>\n",
       "      <td>...</td>\n",
       "      <td>...</td>\n",
       "      <td>...</td>\n",
       "      <td>...</td>\n",
       "      <td>...</td>\n",
       "      <td>...</td>\n",
       "      <td>...</td>\n",
       "      <td>...</td>\n",
       "      <td>...</td>\n",
       "      <td>...</td>\n",
       "    </tr>\n",
       "    <tr>\n",
       "      <th>101498</th>\n",
       "      <td>101499</td>\n",
       "      <td>NaN</td>\n",
       "      <td>0.282653</td>\n",
       "      <td>24</td>\n",
       "      <td>0</td>\n",
       "      <td>0.068522</td>\n",
       "      <td>1400.0</td>\n",
       "      <td>5</td>\n",
       "      <td>0</td>\n",
       "      <td>0</td>\n",
       "      <td>0</td>\n",
       "      <td>0.0</td>\n",
       "    </tr>\n",
       "    <tr>\n",
       "      <th>101499</th>\n",
       "      <td>101500</td>\n",
       "      <td>NaN</td>\n",
       "      <td>0.922156</td>\n",
       "      <td>36</td>\n",
       "      <td>3</td>\n",
       "      <td>0.934217</td>\n",
       "      <td>7615.0</td>\n",
       "      <td>8</td>\n",
       "      <td>0</td>\n",
       "      <td>2</td>\n",
       "      <td>0</td>\n",
       "      <td>4.0</td>\n",
       "    </tr>\n",
       "    <tr>\n",
       "      <th>101500</th>\n",
       "      <td>101501</td>\n",
       "      <td>NaN</td>\n",
       "      <td>0.081596</td>\n",
       "      <td>70</td>\n",
       "      <td>0</td>\n",
       "      <td>836.000000</td>\n",
       "      <td>NaN</td>\n",
       "      <td>3</td>\n",
       "      <td>0</td>\n",
       "      <td>0</td>\n",
       "      <td>0</td>\n",
       "      <td>NaN</td>\n",
       "    </tr>\n",
       "    <tr>\n",
       "      <th>101501</th>\n",
       "      <td>101502</td>\n",
       "      <td>NaN</td>\n",
       "      <td>0.335457</td>\n",
       "      <td>56</td>\n",
       "      <td>0</td>\n",
       "      <td>3568.000000</td>\n",
       "      <td>NaN</td>\n",
       "      <td>8</td>\n",
       "      <td>0</td>\n",
       "      <td>2</td>\n",
       "      <td>1</td>\n",
       "      <td>3.0</td>\n",
       "    </tr>\n",
       "    <tr>\n",
       "      <th>101502</th>\n",
       "      <td>101503</td>\n",
       "      <td>NaN</td>\n",
       "      <td>0.441842</td>\n",
       "      <td>29</td>\n",
       "      <td>0</td>\n",
       "      <td>0.198918</td>\n",
       "      <td>5916.0</td>\n",
       "      <td>12</td>\n",
       "      <td>0</td>\n",
       "      <td>0</td>\n",
       "      <td>0</td>\n",
       "      <td>0.0</td>\n",
       "    </tr>\n",
       "  </tbody>\n",
       "</table>\n",
       "<p>101503 rows × 12 columns</p>\n",
       "</div>"
      ],
      "text/plain": [
       "        Unnamed: 0  SeriousDlqin2yrs  RevolvingUtilizationOfUnsecuredLines  \\\n",
       "0                1               NaN                              0.885519   \n",
       "1                2               NaN                              0.463295   \n",
       "2                3               NaN                              0.043275   \n",
       "3                4               NaN                              0.280308   \n",
       "4                5               NaN                              1.000000   \n",
       "...            ...               ...                                   ...   \n",
       "101498      101499               NaN                              0.282653   \n",
       "101499      101500               NaN                              0.922156   \n",
       "101500      101501               NaN                              0.081596   \n",
       "101501      101502               NaN                              0.335457   \n",
       "101502      101503               NaN                              0.441842   \n",
       "\n",
       "        age  NumberOfTime30-59DaysPastDueNotWorse    DebtRatio  MonthlyIncome  \\\n",
       "0        43                                     0     0.177513         5700.0   \n",
       "1        57                                     0     0.527237         9141.0   \n",
       "2        59                                     0     0.687648         5083.0   \n",
       "3        38                                     1     0.925961         3200.0   \n",
       "4        27                                     0     0.019917         3865.0   \n",
       "...     ...                                   ...          ...            ...   \n",
       "101498   24                                     0     0.068522         1400.0   \n",
       "101499   36                                     3     0.934217         7615.0   \n",
       "101500   70                                     0   836.000000            NaN   \n",
       "101501   56                                     0  3568.000000            NaN   \n",
       "101502   29                                     0     0.198918         5916.0   \n",
       "\n",
       "        NumberOfOpenCreditLinesAndLoans  NumberOfTimes90DaysLate  \\\n",
       "0                                     4                        0   \n",
       "1                                    15                        0   \n",
       "2                                    12                        0   \n",
       "3                                     7                        0   \n",
       "4                                     4                        0   \n",
       "...                                 ...                      ...   \n",
       "101498                                5                        0   \n",
       "101499                                8                        0   \n",
       "101500                                3                        0   \n",
       "101501                                8                        0   \n",
       "101502                               12                        0   \n",
       "\n",
       "        NumberRealEstateLoansOrLines  NumberOfTime60-89DaysPastDueNotWorse  \\\n",
       "0                                  0                                     0   \n",
       "1                                  4                                     0   \n",
       "2                                  1                                     0   \n",
       "3                                  2                                     0   \n",
       "4                                  0                                     0   \n",
       "...                              ...                                   ...   \n",
       "101498                             0                                     0   \n",
       "101499                             2                                     0   \n",
       "101500                             0                                     0   \n",
       "101501                             2                                     1   \n",
       "101502                             0                                     0   \n",
       "\n",
       "        NumberOfDependents  \n",
       "0                      0.0  \n",
       "1                      2.0  \n",
       "2                      2.0  \n",
       "3                      0.0  \n",
       "4                      1.0  \n",
       "...                    ...  \n",
       "101498                 0.0  \n",
       "101499                 4.0  \n",
       "101500                 NaN  \n",
       "101501                 3.0  \n",
       "101502                 0.0  \n",
       "\n",
       "[101503 rows x 12 columns]"
      ]
     },
     "metadata": {},
     "output_type": "display_data"
    }
   ],
   "source": [
    "display(train, test)\n",
    "all_data = pd.concat([train, test])\n",
    "# Test set NAN값이 있으니까 정답 컬럼 drop해야 함 \n",
    "# 결측치 처리 "
   ]
  },
  {
   "cell_type": "code",
   "execution_count": 4,
   "metadata": {
    "execution": {
     "iopub.execute_input": "2021-01-03T12:05:18.200865Z",
     "iopub.status.busy": "2021-01-03T12:05:18.199692Z",
     "iopub.status.idle": "2021-01-03T12:05:18.216735Z",
     "shell.execute_reply": "2021-01-03T12:05:18.216146Z"
    },
    "papermill": {
     "duration": 0.06422,
     "end_time": "2021-01-03T12:05:18.216860",
     "exception": false,
     "start_time": "2021-01-03T12:05:18.152640",
     "status": "completed"
    },
    "tags": []
   },
   "outputs": [
    {
     "data": {
      "text/html": [
       "<div>\n",
       "<style scoped>\n",
       "    .dataframe tbody tr th:only-of-type {\n",
       "        vertical-align: middle;\n",
       "    }\n",
       "\n",
       "    .dataframe tbody tr th {\n",
       "        vertical-align: top;\n",
       "    }\n",
       "\n",
       "    .dataframe thead th {\n",
       "        text-align: right;\n",
       "    }\n",
       "</style>\n",
       "<table border=\"1\" class=\"dataframe\">\n",
       "  <thead>\n",
       "    <tr style=\"text-align: right;\">\n",
       "      <th></th>\n",
       "      <th>Unnamed: 0</th>\n",
       "      <th>SeriousDlqin2yrs</th>\n",
       "      <th>RevolvingUtilizationOfUnsecuredLines</th>\n",
       "      <th>age</th>\n",
       "      <th>NumberOfTime30-59DaysPastDueNotWorse</th>\n",
       "      <th>DebtRatio</th>\n",
       "      <th>MonthlyIncome</th>\n",
       "      <th>NumberOfOpenCreditLinesAndLoans</th>\n",
       "      <th>NumberOfTimes90DaysLate</th>\n",
       "      <th>NumberRealEstateLoansOrLines</th>\n",
       "      <th>NumberOfTime60-89DaysPastDueNotWorse</th>\n",
       "      <th>NumberOfDependents</th>\n",
       "    </tr>\n",
       "  </thead>\n",
       "  <tbody>\n",
       "    <tr>\n",
       "      <th>0</th>\n",
       "      <td>1</td>\n",
       "      <td>1.0</td>\n",
       "      <td>0.766127</td>\n",
       "      <td>45</td>\n",
       "      <td>2</td>\n",
       "      <td>0.802982</td>\n",
       "      <td>9120.0</td>\n",
       "      <td>13</td>\n",
       "      <td>0</td>\n",
       "      <td>6</td>\n",
       "      <td>0</td>\n",
       "      <td>2.0</td>\n",
       "    </tr>\n",
       "    <tr>\n",
       "      <th>1</th>\n",
       "      <td>2</td>\n",
       "      <td>0.0</td>\n",
       "      <td>0.957151</td>\n",
       "      <td>40</td>\n",
       "      <td>0</td>\n",
       "      <td>0.121876</td>\n",
       "      <td>2600.0</td>\n",
       "      <td>4</td>\n",
       "      <td>0</td>\n",
       "      <td>0</td>\n",
       "      <td>0</td>\n",
       "      <td>1.0</td>\n",
       "    </tr>\n",
       "    <tr>\n",
       "      <th>2</th>\n",
       "      <td>3</td>\n",
       "      <td>0.0</td>\n",
       "      <td>0.658180</td>\n",
       "      <td>38</td>\n",
       "      <td>1</td>\n",
       "      <td>0.085113</td>\n",
       "      <td>3042.0</td>\n",
       "      <td>2</td>\n",
       "      <td>1</td>\n",
       "      <td>0</td>\n",
       "      <td>0</td>\n",
       "      <td>0.0</td>\n",
       "    </tr>\n",
       "    <tr>\n",
       "      <th>3</th>\n",
       "      <td>4</td>\n",
       "      <td>0.0</td>\n",
       "      <td>0.233810</td>\n",
       "      <td>30</td>\n",
       "      <td>0</td>\n",
       "      <td>0.036050</td>\n",
       "      <td>3300.0</td>\n",
       "      <td>5</td>\n",
       "      <td>0</td>\n",
       "      <td>0</td>\n",
       "      <td>0</td>\n",
       "      <td>0.0</td>\n",
       "    </tr>\n",
       "    <tr>\n",
       "      <th>4</th>\n",
       "      <td>5</td>\n",
       "      <td>0.0</td>\n",
       "      <td>0.907239</td>\n",
       "      <td>49</td>\n",
       "      <td>1</td>\n",
       "      <td>0.024926</td>\n",
       "      <td>63588.0</td>\n",
       "      <td>7</td>\n",
       "      <td>0</td>\n",
       "      <td>1</td>\n",
       "      <td>0</td>\n",
       "      <td>0.0</td>\n",
       "    </tr>\n",
       "    <tr>\n",
       "      <th>...</th>\n",
       "      <td>...</td>\n",
       "      <td>...</td>\n",
       "      <td>...</td>\n",
       "      <td>...</td>\n",
       "      <td>...</td>\n",
       "      <td>...</td>\n",
       "      <td>...</td>\n",
       "      <td>...</td>\n",
       "      <td>...</td>\n",
       "      <td>...</td>\n",
       "      <td>...</td>\n",
       "      <td>...</td>\n",
       "    </tr>\n",
       "    <tr>\n",
       "      <th>101498</th>\n",
       "      <td>101499</td>\n",
       "      <td>NaN</td>\n",
       "      <td>0.282653</td>\n",
       "      <td>24</td>\n",
       "      <td>0</td>\n",
       "      <td>0.068522</td>\n",
       "      <td>1400.0</td>\n",
       "      <td>5</td>\n",
       "      <td>0</td>\n",
       "      <td>0</td>\n",
       "      <td>0</td>\n",
       "      <td>0.0</td>\n",
       "    </tr>\n",
       "    <tr>\n",
       "      <th>101499</th>\n",
       "      <td>101500</td>\n",
       "      <td>NaN</td>\n",
       "      <td>0.922156</td>\n",
       "      <td>36</td>\n",
       "      <td>3</td>\n",
       "      <td>0.934217</td>\n",
       "      <td>7615.0</td>\n",
       "      <td>8</td>\n",
       "      <td>0</td>\n",
       "      <td>2</td>\n",
       "      <td>0</td>\n",
       "      <td>4.0</td>\n",
       "    </tr>\n",
       "    <tr>\n",
       "      <th>101500</th>\n",
       "      <td>101501</td>\n",
       "      <td>NaN</td>\n",
       "      <td>0.081596</td>\n",
       "      <td>70</td>\n",
       "      <td>0</td>\n",
       "      <td>836.000000</td>\n",
       "      <td>NaN</td>\n",
       "      <td>3</td>\n",
       "      <td>0</td>\n",
       "      <td>0</td>\n",
       "      <td>0</td>\n",
       "      <td>NaN</td>\n",
       "    </tr>\n",
       "    <tr>\n",
       "      <th>101501</th>\n",
       "      <td>101502</td>\n",
       "      <td>NaN</td>\n",
       "      <td>0.335457</td>\n",
       "      <td>56</td>\n",
       "      <td>0</td>\n",
       "      <td>3568.000000</td>\n",
       "      <td>NaN</td>\n",
       "      <td>8</td>\n",
       "      <td>0</td>\n",
       "      <td>2</td>\n",
       "      <td>1</td>\n",
       "      <td>3.0</td>\n",
       "    </tr>\n",
       "    <tr>\n",
       "      <th>101502</th>\n",
       "      <td>101503</td>\n",
       "      <td>NaN</td>\n",
       "      <td>0.441842</td>\n",
       "      <td>29</td>\n",
       "      <td>0</td>\n",
       "      <td>0.198918</td>\n",
       "      <td>5916.0</td>\n",
       "      <td>12</td>\n",
       "      <td>0</td>\n",
       "      <td>0</td>\n",
       "      <td>0</td>\n",
       "      <td>0.0</td>\n",
       "    </tr>\n",
       "  </tbody>\n",
       "</table>\n",
       "<p>251503 rows × 12 columns</p>\n",
       "</div>"
      ],
      "text/plain": [
       "        Unnamed: 0  SeriousDlqin2yrs  RevolvingUtilizationOfUnsecuredLines  \\\n",
       "0                1               1.0                              0.766127   \n",
       "1                2               0.0                              0.957151   \n",
       "2                3               0.0                              0.658180   \n",
       "3                4               0.0                              0.233810   \n",
       "4                5               0.0                              0.907239   \n",
       "...            ...               ...                                   ...   \n",
       "101498      101499               NaN                              0.282653   \n",
       "101499      101500               NaN                              0.922156   \n",
       "101500      101501               NaN                              0.081596   \n",
       "101501      101502               NaN                              0.335457   \n",
       "101502      101503               NaN                              0.441842   \n",
       "\n",
       "        age  NumberOfTime30-59DaysPastDueNotWorse    DebtRatio  MonthlyIncome  \\\n",
       "0        45                                     2     0.802982         9120.0   \n",
       "1        40                                     0     0.121876         2600.0   \n",
       "2        38                                     1     0.085113         3042.0   \n",
       "3        30                                     0     0.036050         3300.0   \n",
       "4        49                                     1     0.024926        63588.0   \n",
       "...     ...                                   ...          ...            ...   \n",
       "101498   24                                     0     0.068522         1400.0   \n",
       "101499   36                                     3     0.934217         7615.0   \n",
       "101500   70                                     0   836.000000            NaN   \n",
       "101501   56                                     0  3568.000000            NaN   \n",
       "101502   29                                     0     0.198918         5916.0   \n",
       "\n",
       "        NumberOfOpenCreditLinesAndLoans  NumberOfTimes90DaysLate  \\\n",
       "0                                    13                        0   \n",
       "1                                     4                        0   \n",
       "2                                     2                        1   \n",
       "3                                     5                        0   \n",
       "4                                     7                        0   \n",
       "...                                 ...                      ...   \n",
       "101498                                5                        0   \n",
       "101499                                8                        0   \n",
       "101500                                3                        0   \n",
       "101501                                8                        0   \n",
       "101502                               12                        0   \n",
       "\n",
       "        NumberRealEstateLoansOrLines  NumberOfTime60-89DaysPastDueNotWorse  \\\n",
       "0                                  6                                     0   \n",
       "1                                  0                                     0   \n",
       "2                                  0                                     0   \n",
       "3                                  0                                     0   \n",
       "4                                  1                                     0   \n",
       "...                              ...                                   ...   \n",
       "101498                             0                                     0   \n",
       "101499                             2                                     0   \n",
       "101500                             0                                     0   \n",
       "101501                             2                                     1   \n",
       "101502                             0                                     0   \n",
       "\n",
       "        NumberOfDependents  \n",
       "0                      2.0  \n",
       "1                      1.0  \n",
       "2                      0.0  \n",
       "3                      0.0  \n",
       "4                      0.0  \n",
       "...                    ...  \n",
       "101498                 0.0  \n",
       "101499                 4.0  \n",
       "101500                 NaN  \n",
       "101501                 3.0  \n",
       "101502                 0.0  \n",
       "\n",
       "[251503 rows x 12 columns]"
      ]
     },
     "execution_count": 4,
     "metadata": {},
     "output_type": "execute_result"
    }
   ],
   "source": [
    "all_data"
   ]
  },
  {
   "cell_type": "code",
   "execution_count": 5,
   "metadata": {
    "execution": {
     "iopub.execute_input": "2021-01-03T12:05:18.287907Z",
     "iopub.status.busy": "2021-01-03T12:05:18.286143Z",
     "iopub.status.idle": "2021-01-03T12:05:18.485413Z",
     "shell.execute_reply": "2021-01-03T12:05:18.484634Z"
    },
    "papermill": {
     "duration": 0.237911,
     "end_time": "2021-01-03T12:05:18.485550",
     "exception": false,
     "start_time": "2021-01-03T12:05:18.247639",
     "status": "completed"
    },
    "tags": []
   },
   "outputs": [
    {
     "name": "stdout",
     "output_type": "stream",
     "text": [
      "<class 'pandas.core.frame.DataFrame'>\n",
      "Int64Index: 251503 entries, 0 to 101502\n",
      "Data columns (total 12 columns):\n",
      " #   Column                                Non-Null Count   Dtype  \n",
      "---  ------                                --------------   -----  \n",
      " 0   Unnamed: 0                            251503 non-null  int64  \n",
      " 1   SeriousDlqin2yrs                      150000 non-null  float64\n",
      " 2   RevolvingUtilizationOfUnsecuredLines  251503 non-null  float64\n",
      " 3   age                                   251503 non-null  int64  \n",
      " 4   NumberOfTime30-59DaysPastDueNotWorse  251503 non-null  int64  \n",
      " 5   DebtRatio                             251503 non-null  float64\n",
      " 6   MonthlyIncome                         201669 non-null  float64\n",
      " 7   NumberOfOpenCreditLinesAndLoans       251503 non-null  int64  \n",
      " 8   NumberOfTimes90DaysLate               251503 non-null  int64  \n",
      " 9   NumberRealEstateLoansOrLines          251503 non-null  int64  \n",
      " 10  NumberOfTime60-89DaysPastDueNotWorse  251503 non-null  int64  \n",
      " 11  NumberOfDependents                    244953 non-null  float64\n",
      "dtypes: float64(5), int64(7)\n",
      "memory usage: 24.9 MB\n"
     ]
    },
    {
     "data": {
      "text/plain": [
       "None"
      ]
     },
     "metadata": {},
     "output_type": "display_data"
    },
    {
     "data": {
      "text/html": [
       "<div>\n",
       "<style scoped>\n",
       "    .dataframe tbody tr th:only-of-type {\n",
       "        vertical-align: middle;\n",
       "    }\n",
       "\n",
       "    .dataframe tbody tr th {\n",
       "        vertical-align: top;\n",
       "    }\n",
       "\n",
       "    .dataframe thead th {\n",
       "        text-align: right;\n",
       "    }\n",
       "</style>\n",
       "<table border=\"1\" class=\"dataframe\">\n",
       "  <thead>\n",
       "    <tr style=\"text-align: right;\">\n",
       "      <th></th>\n",
       "      <th>Unnamed: 0</th>\n",
       "      <th>SeriousDlqin2yrs</th>\n",
       "      <th>RevolvingUtilizationOfUnsecuredLines</th>\n",
       "      <th>age</th>\n",
       "      <th>NumberOfTime30-59DaysPastDueNotWorse</th>\n",
       "      <th>DebtRatio</th>\n",
       "      <th>MonthlyIncome</th>\n",
       "      <th>NumberOfOpenCreditLinesAndLoans</th>\n",
       "      <th>NumberOfTimes90DaysLate</th>\n",
       "      <th>NumberRealEstateLoansOrLines</th>\n",
       "      <th>NumberOfTime60-89DaysPastDueNotWorse</th>\n",
       "      <th>NumberOfDependents</th>\n",
       "    </tr>\n",
       "  </thead>\n",
       "  <tbody>\n",
       "    <tr>\n",
       "      <th>count</th>\n",
       "      <td>251503.000000</td>\n",
       "      <td>150000.000000</td>\n",
       "      <td>251503.000000</td>\n",
       "      <td>251503.000000</td>\n",
       "      <td>251503.000000</td>\n",
       "      <td>251503.000000</td>\n",
       "      <td>2.016690e+05</td>\n",
       "      <td>251503.000000</td>\n",
       "      <td>251503.000000</td>\n",
       "      <td>251503.000000</td>\n",
       "      <td>251503.000000</td>\n",
       "      <td>244953.000000</td>\n",
       "    </tr>\n",
       "    <tr>\n",
       "      <th>mean</th>\n",
       "      <td>65214.153533</td>\n",
       "      <td>0.066840</td>\n",
       "      <td>5.750415</td>\n",
       "      <td>52.339694</td>\n",
       "      <td>0.434245</td>\n",
       "      <td>349.562468</td>\n",
       "      <td>6.744818e+03</td>\n",
       "      <td>8.453064</td>\n",
       "      <td>0.278370</td>\n",
       "      <td>1.016155</td>\n",
       "      <td>0.252466</td>\n",
       "      <td>0.761995</td>\n",
       "    </tr>\n",
       "    <tr>\n",
       "      <th>std</th>\n",
       "      <td>40078.948539</td>\n",
       "      <td>0.249746</td>\n",
       "      <td>229.633980</td>\n",
       "      <td>14.775120</td>\n",
       "      <td>4.335643</td>\n",
       "      <td>1884.792016</td>\n",
       "      <td>2.571761e+04</td>\n",
       "      <td>5.145194</td>\n",
       "      <td>4.312539</td>\n",
       "      <td>1.121935</td>\n",
       "      <td>4.299204</td>\n",
       "      <td>1.123905</td>\n",
       "    </tr>\n",
       "    <tr>\n",
       "      <th>min</th>\n",
       "      <td>1.000000</td>\n",
       "      <td>0.000000</td>\n",
       "      <td>0.000000</td>\n",
       "      <td>0.000000</td>\n",
       "      <td>0.000000</td>\n",
       "      <td>0.000000</td>\n",
       "      <td>0.000000e+00</td>\n",
       "      <td>0.000000</td>\n",
       "      <td>0.000000</td>\n",
       "      <td>0.000000</td>\n",
       "      <td>0.000000</td>\n",
       "      <td>0.000000</td>\n",
       "    </tr>\n",
       "    <tr>\n",
       "      <th>25%</th>\n",
       "      <td>31438.500000</td>\n",
       "      <td>0.000000</td>\n",
       "      <td>0.029977</td>\n",
       "      <td>41.000000</td>\n",
       "      <td>0.000000</td>\n",
       "      <td>0.174330</td>\n",
       "      <td>3.400000e+03</td>\n",
       "      <td>5.000000</td>\n",
       "      <td>0.000000</td>\n",
       "      <td>0.000000</td>\n",
       "      <td>0.000000</td>\n",
       "      <td>0.000000</td>\n",
       "    </tr>\n",
       "    <tr>\n",
       "      <th>50%</th>\n",
       "      <td>62876.000000</td>\n",
       "      <td>0.000000</td>\n",
       "      <td>0.153575</td>\n",
       "      <td>52.000000</td>\n",
       "      <td>0.000000</td>\n",
       "      <td>0.365612</td>\n",
       "      <td>5.400000e+03</td>\n",
       "      <td>8.000000</td>\n",
       "      <td>0.000000</td>\n",
       "      <td>1.000000</td>\n",
       "      <td>0.000000</td>\n",
       "      <td>0.000000</td>\n",
       "    </tr>\n",
       "    <tr>\n",
       "      <th>75%</th>\n",
       "      <td>94314.000000</td>\n",
       "      <td>0.000000</td>\n",
       "      <td>0.561293</td>\n",
       "      <td>63.000000</td>\n",
       "      <td>0.000000</td>\n",
       "      <td>0.861754</td>\n",
       "      <td>8.212000e+03</td>\n",
       "      <td>11.000000</td>\n",
       "      <td>0.000000</td>\n",
       "      <td>2.000000</td>\n",
       "      <td>0.000000</td>\n",
       "      <td>1.000000</td>\n",
       "    </tr>\n",
       "    <tr>\n",
       "      <th>max</th>\n",
       "      <td>150000.000000</td>\n",
       "      <td>1.000000</td>\n",
       "      <td>50708.000000</td>\n",
       "      <td>109.000000</td>\n",
       "      <td>98.000000</td>\n",
       "      <td>329664.000000</td>\n",
       "      <td>7.727000e+06</td>\n",
       "      <td>85.000000</td>\n",
       "      <td>98.000000</td>\n",
       "      <td>54.000000</td>\n",
       "      <td>98.000000</td>\n",
       "      <td>43.000000</td>\n",
       "    </tr>\n",
       "  </tbody>\n",
       "</table>\n",
       "</div>"
      ],
      "text/plain": [
       "          Unnamed: 0  SeriousDlqin2yrs  RevolvingUtilizationOfUnsecuredLines  \\\n",
       "count  251503.000000     150000.000000                         251503.000000   \n",
       "mean    65214.153533          0.066840                              5.750415   \n",
       "std     40078.948539          0.249746                            229.633980   \n",
       "min         1.000000          0.000000                              0.000000   \n",
       "25%     31438.500000          0.000000                              0.029977   \n",
       "50%     62876.000000          0.000000                              0.153575   \n",
       "75%     94314.000000          0.000000                              0.561293   \n",
       "max    150000.000000          1.000000                          50708.000000   \n",
       "\n",
       "                 age  NumberOfTime30-59DaysPastDueNotWorse      DebtRatio  \\\n",
       "count  251503.000000                         251503.000000  251503.000000   \n",
       "mean       52.339694                              0.434245     349.562468   \n",
       "std        14.775120                              4.335643    1884.792016   \n",
       "min         0.000000                              0.000000       0.000000   \n",
       "25%        41.000000                              0.000000       0.174330   \n",
       "50%        52.000000                              0.000000       0.365612   \n",
       "75%        63.000000                              0.000000       0.861754   \n",
       "max       109.000000                             98.000000  329664.000000   \n",
       "\n",
       "       MonthlyIncome  NumberOfOpenCreditLinesAndLoans  \\\n",
       "count   2.016690e+05                    251503.000000   \n",
       "mean    6.744818e+03                         8.453064   \n",
       "std     2.571761e+04                         5.145194   \n",
       "min     0.000000e+00                         0.000000   \n",
       "25%     3.400000e+03                         5.000000   \n",
       "50%     5.400000e+03                         8.000000   \n",
       "75%     8.212000e+03                        11.000000   \n",
       "max     7.727000e+06                        85.000000   \n",
       "\n",
       "       NumberOfTimes90DaysLate  NumberRealEstateLoansOrLines  \\\n",
       "count            251503.000000                 251503.000000   \n",
       "mean                  0.278370                      1.016155   \n",
       "std                   4.312539                      1.121935   \n",
       "min                   0.000000                      0.000000   \n",
       "25%                   0.000000                      0.000000   \n",
       "50%                   0.000000                      1.000000   \n",
       "75%                   0.000000                      2.000000   \n",
       "max                  98.000000                     54.000000   \n",
       "\n",
       "       NumberOfTime60-89DaysPastDueNotWorse  NumberOfDependents  \n",
       "count                         251503.000000       244953.000000  \n",
       "mean                               0.252466            0.761995  \n",
       "std                                4.299204            1.123905  \n",
       "min                                0.000000            0.000000  \n",
       "25%                                0.000000            0.000000  \n",
       "50%                                0.000000            0.000000  \n",
       "75%                                0.000000            1.000000  \n",
       "max                               98.000000           43.000000  "
      ]
     },
     "metadata": {},
     "output_type": "display_data"
    }
   ],
   "source": [
    "display(all_data.info(), all_data.describe())"
   ]
  },
  {
   "cell_type": "markdown",
   "metadata": {
    "papermill": {
     "duration": 0.032733,
     "end_time": "2021-01-03T12:05:18.551480",
     "exception": false,
     "start_time": "2021-01-03T12:05:18.518747",
     "status": "completed"
    },
    "tags": []
   },
   "source": [
    "* # Oversampling 문제 생기겠다 !"
   ]
  },
  {
   "cell_type": "code",
   "execution_count": 6,
   "metadata": {
    "execution": {
     "iopub.execute_input": "2021-01-03T12:05:18.622608Z",
     "iopub.status.busy": "2021-01-03T12:05:18.621857Z",
     "iopub.status.idle": "2021-01-03T12:05:19.987389Z",
     "shell.execute_reply": "2021-01-03T12:05:19.986692Z"
    },
    "papermill": {
     "duration": 1.403421,
     "end_time": "2021-01-03T12:05:19.987520",
     "exception": false,
     "start_time": "2021-01-03T12:05:18.584099",
     "status": "completed"
    },
    "tags": []
   },
   "outputs": [
    {
     "data": {
      "text/plain": [
       "<matplotlib.axes._subplots.AxesSubplot at 0x7fd84892fbd0>"
      ]
     },
     "execution_count": 6,
     "metadata": {},
     "output_type": "execute_result"
    },
    {
     "data": {
      "image/png": "[encoded data removed]",
      "text/plain": [
       "<Figure size 432x288 with 1 Axes>"
      ]
     },
     "metadata": {
      "needs_background": "light"
     },
     "output_type": "display_data"
    }
   ],
   "source": [
    "#plt.hist(train['SeriousDlqin2yrs']) \n",
    "\n",
    "import seaborn as sns\n",
    "sns.countplot(train['SeriousDlqin2yrs'])\n",
    "\n",
    "\n",
    "\n",
    "#Question: 0이랑 1만 보이게 하려면???\n"
   ]
  },
  {
   "cell_type": "markdown",
   "metadata": {
    "papermill": {
     "duration": 0.033506,
     "end_time": "2021-01-03T12:05:20.055090",
     "exception": false,
     "start_time": "2021-01-03T12:05:20.021584",
     "status": "completed"
    },
    "tags": []
   },
   "source": [
    "* # 결측치 어떻게 채울지 생각하기"
   ]
  },
  {
   "cell_type": "code",
   "execution_count": 7,
   "metadata": {
    "execution": {
     "iopub.execute_input": "2021-01-03T12:05:20.154050Z",
     "iopub.status.busy": "2021-01-03T12:05:20.152705Z",
     "iopub.status.idle": "2021-01-03T12:05:21.607295Z",
     "shell.execute_reply": "2021-01-03T12:05:21.606675Z"
    },
    "papermill": {
     "duration": 1.514848,
     "end_time": "2021-01-03T12:05:21.607441",
     "exception": false,
     "start_time": "2021-01-03T12:05:20.092593",
     "status": "completed"
    },
    "tags": []
   },
   "outputs": [
    {
     "data": {
      "text/plain": [
       "<matplotlib.axes._subplots.AxesSubplot at 0x7fd843716750>"
      ]
     },
     "execution_count": 7,
     "metadata": {},
     "output_type": "execute_result"
    },
    {
     "data": {
      "image/png": "[encoded data removed]",
      "text/plain": [
       "<Figure size 720x720 with 10 Axes>"
      ]
     },
     "metadata": {
      "needs_background": "light"
     },
     "output_type": "display_data"
    }
   ],
   "source": [
    "import seaborn as sns\n",
    "import matplotlib.pyplot as plt\n",
    "\n",
    "a, b = plt.subplots(2, 5, figsize=(10,10))\n",
    "sns.boxplot(train['SeriousDlqin2yrs'], train['RevolvingUtilizationOfUnsecuredLines'], ax=b[0,0], showfliers=False)\n",
    "sns.boxplot(train['SeriousDlqin2yrs'], train['age'], ax=b[0,1], showfliers=False)\n",
    "sns.boxplot(train['SeriousDlqin2yrs'], train['NumberOfTime30-59DaysPastDueNotWorse'], ax=b[0,2], showfliers=False)\n",
    "sns.boxplot(train['SeriousDlqin2yrs'], train['MonthlyIncome'], ax=b[0,3], showfliers=False)\n",
    "sns.boxplot(train['SeriousDlqin2yrs'], train['NumberOfOpenCreditLinesAndLoans'], ax=b[0,4], showfliers=False)\n",
    "sns.boxplot(train['SeriousDlqin2yrs'], train['NumberOfTimes90DaysLate'], ax=b[1,0], showfliers=False)\n",
    "sns.boxplot(train['SeriousDlqin2yrs'], train['NumberRealEstateLoansOrLines'], ax=b[1,1], showfliers=False)\n",
    "sns.boxplot(train['SeriousDlqin2yrs'], train['NumberOfTime60-89DaysPastDueNotWorse'], ax=b[1,2], showfliers=False)\n",
    "sns.boxplot(train['SeriousDlqin2yrs'], train['NumberOfDependents'], ax=b[1,3], showfliers=False)\n",
    "sns.boxplot(train['SeriousDlqin2yrs'], train['DebtRatio'], ax=b[1,4], showfliers=False)\n"
   ]
  },
  {
   "cell_type": "code",
   "execution_count": 8,
   "metadata": {
    "execution": {
     "iopub.execute_input": "2021-01-03T12:05:21.695635Z",
     "iopub.status.busy": "2021-01-03T12:05:21.690126Z",
     "iopub.status.idle": "2021-01-03T12:05:23.204291Z",
     "shell.execute_reply": "2021-01-03T12:05:23.203565Z"
    },
    "papermill": {
     "duration": 1.560329,
     "end_time": "2021-01-03T12:05:23.204429",
     "exception": false,
     "start_time": "2021-01-03T12:05:21.644100",
     "status": "completed"
    },
    "tags": []
   },
   "outputs": [
    {
     "data": {
      "text/plain": [
       "<matplotlib.axes._subplots.AxesSubplot at 0x7fd8420897d0>"
      ]
     },
     "execution_count": 8,
     "metadata": {},
     "output_type": "execute_result"
    },
    {
     "data": {
      "image/png": "[encoded data removed]",
      "text/plain": [
       "<Figure size 720x720 with 10 Axes>"
      ]
     },
     "metadata": {
      "needs_background": "light"
     },
     "output_type": "display_data"
    }
   ],
   "source": [
    "a, b = plt.subplots(2, 5, figsize=(10,10))\n",
    "sns.boxplot(train['SeriousDlqin2yrs'], train['RevolvingUtilizationOfUnsecuredLines'], ax=b[0,0], showfliers=True)\n",
    "sns.boxplot(train['SeriousDlqin2yrs'], train['age'], ax=b[0,1], showfliers=True)\n",
    "sns.boxplot(train['SeriousDlqin2yrs'], train['NumberOfTime30-59DaysPastDueNotWorse'], ax=b[0,2], showfliers=True)\n",
    "sns.boxplot(train['SeriousDlqin2yrs'], train['MonthlyIncome'], ax=b[0,3], showfliers=True)\n",
    "sns.boxplot(train['SeriousDlqin2yrs'], train['NumberOfOpenCreditLinesAndLoans'], ax=b[0,4], showfliers=True)\n",
    "sns.boxplot(train['SeriousDlqin2yrs'], train['NumberOfTimes90DaysLate'], ax=b[1,0], showfliers=True)\n",
    "sns.boxplot(train['SeriousDlqin2yrs'], train['NumberRealEstateLoansOrLines'], ax=b[1,1], showfliers=True)\n",
    "sns.boxplot(train['SeriousDlqin2yrs'], train['NumberOfTime60-89DaysPastDueNotWorse'], ax=b[1,2], showfliers=True)\n",
    "sns.boxplot(train['SeriousDlqin2yrs'], train['NumberOfDependents'], ax=b[1,3], showfliers=True)\n",
    "sns.boxplot(train['SeriousDlqin2yrs'], train['DebtRatio'], ax=b[1,4], showfliers=True)"
   ]
  },
  {
   "cell_type": "code",
   "execution_count": 9,
   "metadata": {
    "execution": {
     "iopub.execute_input": "2021-01-03T12:05:23.290147Z",
     "iopub.status.busy": "2021-01-03T12:05:23.288565Z",
     "iopub.status.idle": "2021-01-03T12:05:23.303623Z",
     "shell.execute_reply": "2021-01-03T12:05:23.304156Z"
    },
    "papermill": {
     "duration": 0.060796,
     "end_time": "2021-01-03T12:05:23.304341",
     "exception": false,
     "start_time": "2021-01-03T12:05:23.243545",
     "status": "completed"
    },
    "tags": []
   },
   "outputs": [
    {
     "data": {
      "text/plain": [
       "Unnamed: 0                                   0\n",
       "SeriousDlqin2yrs                        101503\n",
       "RevolvingUtilizationOfUnsecuredLines         0\n",
       "age                                          0\n",
       "NumberOfTime30-59DaysPastDueNotWorse         0\n",
       "DebtRatio                                    0\n",
       "MonthlyIncome                            49834\n",
       "NumberOfOpenCreditLinesAndLoans              0\n",
       "NumberOfTimes90DaysLate                      0\n",
       "NumberRealEstateLoansOrLines                 0\n",
       "NumberOfTime60-89DaysPastDueNotWorse         0\n",
       "NumberOfDependents                        6550\n",
       "dtype: int64"
      ]
     },
     "execution_count": 9,
     "metadata": {},
     "output_type": "execute_result"
    }
   ],
   "source": [
    "all_data.isnull().sum()"
   ]
  },
  {
   "cell_type": "code",
   "execution_count": 10,
   "metadata": {
    "execution": {
     "iopub.execute_input": "2021-01-03T12:05:23.390928Z",
     "iopub.status.busy": "2021-01-03T12:05:23.389297Z",
     "iopub.status.idle": "2021-01-03T12:05:23.401787Z",
     "shell.execute_reply": "2021-01-03T12:05:23.401202Z"
    },
    "papermill": {
     "duration": 0.058275,
     "end_time": "2021-01-03T12:05:23.401912",
     "exception": false,
     "start_time": "2021-01-03T12:05:23.343637",
     "status": "completed"
    },
    "tags": []
   },
   "outputs": [
    {
     "data": {
      "text/plain": [
       "Unnamed: 0                                  0\n",
       "SeriousDlqin2yrs                            0\n",
       "RevolvingUtilizationOfUnsecuredLines        0\n",
       "age                                         0\n",
       "NumberOfTime30-59DaysPastDueNotWorse        0\n",
       "DebtRatio                                   0\n",
       "MonthlyIncome                           29731\n",
       "NumberOfOpenCreditLinesAndLoans             0\n",
       "NumberOfTimes90DaysLate                     0\n",
       "NumberRealEstateLoansOrLines                0\n",
       "NumberOfTime60-89DaysPastDueNotWorse        0\n",
       "NumberOfDependents                       3924\n",
       "dtype: int64"
      ]
     },
     "execution_count": 10,
     "metadata": {},
     "output_type": "execute_result"
    }
   ],
   "source": [
    "train.isnull().sum()"
   ]
  },
  {
   "cell_type": "markdown",
   "metadata": {
    "papermill": {
     "duration": 0.039498,
     "end_time": "2021-01-03T12:05:23.481246",
     "exception": false,
     "start_time": "2021-01-03T12:05:23.441748",
     "status": "completed"
    },
    "tags": []
   },
   "source": [
    "# Monthly Income(Real), Number of Dependents(Integer) -> 둘 다 numerical"
   ]
  },
  {
   "cell_type": "code",
   "execution_count": 11,
   "metadata": {
    "execution": {
     "iopub.execute_input": "2021-01-03T12:05:23.574875Z",
     "iopub.status.busy": "2021-01-03T12:05:23.574207Z",
     "iopub.status.idle": "2021-01-03T12:05:23.746652Z",
     "shell.execute_reply": "2021-01-03T12:05:23.747251Z"
    },
    "papermill": {
     "duration": 0.219815,
     "end_time": "2021-01-03T12:05:23.747424",
     "exception": false,
     "start_time": "2021-01-03T12:05:23.527609",
     "status": "completed"
    },
    "tags": []
   },
   "outputs": [
    {
     "data": {
      "text/plain": [
       "<matplotlib.axes._subplots.AxesSubplot at 0x7fd83bfe8fd0>"
      ]
     },
     "execution_count": 11,
     "metadata": {},
     "output_type": "execute_result"
    },
    {
     "data": {
      "image/png": "[encoded data removed]",
      "text/plain": [
       "<Figure size 720x720 with 1 Axes>"
      ]
     },
     "metadata": {
      "needs_background": "light"
     },
     "output_type": "display_data"
    }
   ],
   "source": [
    "plt.subplots( figsize=(10,10))\n",
    "sns.boxplot(train['SeriousDlqin2yrs'], train['MonthlyIncome'])"
   ]
  },
  {
   "cell_type": "code",
   "execution_count": 12,
   "metadata": {
    "execution": {
     "iopub.execute_input": "2021-01-03T12:05:23.835399Z",
     "iopub.status.busy": "2021-01-03T12:05:23.834554Z",
     "iopub.status.idle": "2021-01-03T12:05:23.844510Z",
     "shell.execute_reply": "2021-01-03T12:05:23.844991Z"
    },
    "papermill": {
     "duration": 0.05553,
     "end_time": "2021-01-03T12:05:23.845183",
     "exception": false,
     "start_time": "2021-01-03T12:05:23.789653",
     "status": "completed"
    },
    "tags": []
   },
   "outputs": [
    {
     "data": {
      "text/plain": [
       "6670.221237392844"
      ]
     },
     "metadata": {},
     "output_type": "display_data"
    },
    {
     "data": {
      "text/plain": [
       "5400.0"
      ]
     },
     "metadata": {},
     "output_type": "display_data"
    }
   ],
   "source": [
    "display(train['MonthlyIncome'].mean(), train['MonthlyIncome'].median())"
   ]
  },
  {
   "cell_type": "markdown",
   "metadata": {
    "papermill": {
     "duration": 0.043676,
     "end_time": "2021-01-03T12:05:23.932650",
     "exception": false,
     "start_time": "2021-01-03T12:05:23.888974",
     "status": "completed"
    },
    "tags": []
   },
   "source": [
    "## 1) Median 값으로 처리하기  : 0.84376"
   ]
  },
  {
   "cell_type": "code",
   "execution_count": 13,
   "metadata": {
    "execution": {
     "iopub.execute_input": "2021-01-03T12:05:24.021746Z",
     "iopub.status.busy": "2021-01-03T12:05:24.020953Z",
     "iopub.status.idle": "2021-01-03T12:05:24.044490Z",
     "shell.execute_reply": "2021-01-03T12:05:24.043803Z"
    },
    "papermill": {
     "duration": 0.069455,
     "end_time": "2021-01-03T12:05:24.044645",
     "exception": false,
     "start_time": "2021-01-03T12:05:23.975190",
     "status": "completed"
    },
    "tags": []
   },
   "outputs": [
    {
     "data": {
      "text/plain": [
       "count    2.016690e+05\n",
       "mean     6.744818e+03\n",
       "std      2.571761e+04\n",
       "min      0.000000e+00\n",
       "25%      3.400000e+03\n",
       "50%      5.400000e+03\n",
       "75%      8.212000e+03\n",
       "max      7.727000e+06\n",
       "Name: MonthlyIncome, dtype: float64"
      ]
     },
     "execution_count": 13,
     "metadata": {},
     "output_type": "execute_result"
    }
   ],
   "source": [
    "all_data['MonthlyIncome'].describe()"
   ]
  },
  {
   "cell_type": "code",
   "execution_count": 14,
   "metadata": {
    "execution": {
     "iopub.execute_input": "2021-01-03T12:05:24.137997Z",
     "iopub.status.busy": "2021-01-03T12:05:24.137288Z",
     "iopub.status.idle": "2021-01-03T12:05:24.139431Z",
     "shell.execute_reply": "2021-01-03T12:05:24.140007Z"
    },
    "papermill": {
     "duration": 0.051252,
     "end_time": "2021-01-03T12:05:24.140212",
     "exception": false,
     "start_time": "2021-01-03T12:05:24.088960",
     "status": "completed"
    },
    "tags": []
   },
   "outputs": [],
   "source": [
    "#all_data['MonthlyIncome'] =  all_data['MonthlyIncome'].replace(np.NaN, all_data['MonthlyIncome'].median())\n",
    "#Question: Replace는 다시 DataFrame에 안 넣어줘도 되나요? 넣어줘야 함 "
   ]
  },
  {
   "cell_type": "code",
   "execution_count": 15,
   "metadata": {
    "execution": {
     "iopub.execute_input": "2021-01-03T12:05:24.232012Z",
     "iopub.status.busy": "2021-01-03T12:05:24.231362Z",
     "iopub.status.idle": "2021-01-03T12:05:24.237829Z",
     "shell.execute_reply": "2021-01-03T12:05:24.238500Z"
    },
    "papermill": {
     "duration": 0.053761,
     "end_time": "2021-01-03T12:05:24.238671",
     "exception": false,
     "start_time": "2021-01-03T12:05:24.184910",
     "status": "completed"
    },
    "tags": []
   },
   "outputs": [
    {
     "data": {
      "text/plain": [
       "49834"
      ]
     },
     "execution_count": 15,
     "metadata": {},
     "output_type": "execute_result"
    }
   ],
   "source": [
    "all_data['MonthlyIncome'].isnull().sum()"
   ]
  },
  {
   "cell_type": "code",
   "execution_count": 16,
   "metadata": {
    "execution": {
     "iopub.execute_input": "2021-01-03T12:05:24.329548Z",
     "iopub.status.busy": "2021-01-03T12:05:24.328760Z",
     "iopub.status.idle": "2021-01-03T12:05:24.331921Z",
     "shell.execute_reply": "2021-01-03T12:05:24.332496Z"
    },
    "papermill": {
     "duration": 0.050592,
     "end_time": "2021-01-03T12:05:24.332672",
     "exception": false,
     "start_time": "2021-01-03T12:05:24.282080",
     "status": "completed"
    },
    "tags": []
   },
   "outputs": [],
   "source": [
    "#all_data['NumberOfDependents'] =  all_data['NumberOfDependents'].replace(np.NaN, all_data['NumberOfDependents'].median())"
   ]
  },
  {
   "cell_type": "code",
   "execution_count": 17,
   "metadata": {
    "execution": {
     "iopub.execute_input": "2021-01-03T12:05:24.424588Z",
     "iopub.status.busy": "2021-01-03T12:05:24.423802Z",
     "iopub.status.idle": "2021-01-03T12:05:24.432223Z",
     "shell.execute_reply": "2021-01-03T12:05:24.431638Z"
    },
    "papermill": {
     "duration": 0.055426,
     "end_time": "2021-01-03T12:05:24.432377",
     "exception": false,
     "start_time": "2021-01-03T12:05:24.376951",
     "status": "completed"
    },
    "tags": []
   },
   "outputs": [
    {
     "data": {
      "text/plain": [
       "6550"
      ]
     },
     "execution_count": 17,
     "metadata": {},
     "output_type": "execute_result"
    }
   ],
   "source": [
    "all_data['NumberOfDependents'].isnull().sum()"
   ]
  },
  {
   "cell_type": "code",
   "execution_count": 18,
   "metadata": {
    "execution": {
     "iopub.execute_input": "2021-01-03T12:05:24.530027Z",
     "iopub.status.busy": "2021-01-03T12:05:24.528301Z",
     "iopub.status.idle": "2021-01-03T12:05:24.541576Z",
     "shell.execute_reply": "2021-01-03T12:05:24.542137Z"
    },
    "papermill": {
     "duration": 0.064898,
     "end_time": "2021-01-03T12:05:24.542333",
     "exception": false,
     "start_time": "2021-01-03T12:05:24.477435",
     "status": "completed"
    },
    "tags": []
   },
   "outputs": [
    {
     "data": {
      "text/plain": [
       "Unnamed: 0                                   0\n",
       "SeriousDlqin2yrs                        101503\n",
       "RevolvingUtilizationOfUnsecuredLines         0\n",
       "age                                          0\n",
       "NumberOfTime30-59DaysPastDueNotWorse         0\n",
       "DebtRatio                                    0\n",
       "MonthlyIncome                            49834\n",
       "NumberOfOpenCreditLinesAndLoans              0\n",
       "NumberOfTimes90DaysLate                      0\n",
       "NumberRealEstateLoansOrLines                 0\n",
       "NumberOfTime60-89DaysPastDueNotWorse         0\n",
       "NumberOfDependents                        6550\n",
       "dtype: int64"
      ]
     },
     "execution_count": 18,
     "metadata": {},
     "output_type": "execute_result"
    }
   ],
   "source": [
    "all_data.isnull().sum()"
   ]
  },
  {
   "cell_type": "markdown",
   "metadata": {
    "papermill": {
     "duration": 0.044566,
     "end_time": "2021-01-03T12:05:24.632645",
     "exception": false,
     "start_time": "2021-01-03T12:05:24.588079",
     "status": "completed"
    },
    "tags": []
   },
   "source": [
    "## 2.Mean으로 처리하기: 0.85925"
   ]
  },
  {
   "cell_type": "code",
   "execution_count": 19,
   "metadata": {
    "execution": {
     "iopub.execute_input": "2021-01-03T12:05:24.727393Z",
     "iopub.status.busy": "2021-01-03T12:05:24.726570Z",
     "iopub.status.idle": "2021-01-03T12:05:24.730074Z",
     "shell.execute_reply": "2021-01-03T12:05:24.729548Z"
    },
    "papermill": {
     "duration": 0.052837,
     "end_time": "2021-01-03T12:05:24.730215",
     "exception": false,
     "start_time": "2021-01-03T12:05:24.677378",
     "status": "completed"
    },
    "tags": []
   },
   "outputs": [],
   "source": [
    "#all_data['MonthlyIncome'] =  all_data['MonthlyIncome'].replace(np.NaN, all_data['MonthlyIncome'].mean())\n",
    "#all_data['NumberOfDependents'] =  all_data['NumberOfDependents'].replace(np.NaN, all_data['NumberOfDependents'].mean())"
   ]
  },
  {
   "cell_type": "markdown",
   "metadata": {
    "papermill": {
     "duration": 0.044937,
     "end_time": "2021-01-03T12:05:24.820010",
     "exception": false,
     "start_time": "2021-01-03T12:05:24.775073",
     "status": "completed"
    },
    "tags": []
   },
   "source": [
    "## 3. Depentant만 Mode값으로 처리하기: 0.84451"
   ]
  },
  {
   "cell_type": "code",
   "execution_count": 20,
   "metadata": {
    "execution": {
     "iopub.execute_input": "2021-01-03T12:05:24.917412Z",
     "iopub.status.busy": "2021-01-03T12:05:24.916701Z",
     "iopub.status.idle": "2021-01-03T12:05:24.925704Z",
     "shell.execute_reply": "2021-01-03T12:05:24.926264Z"
    },
    "papermill": {
     "duration": 0.060537,
     "end_time": "2021-01-03T12:05:24.926437",
     "exception": false,
     "start_time": "2021-01-03T12:05:24.865900",
     "status": "completed"
    },
    "tags": []
   },
   "outputs": [
    {
     "data": {
      "text/plain": [
       "0.0"
      ]
     },
     "execution_count": 20,
     "metadata": {},
     "output_type": "execute_result"
    }
   ],
   "source": [
    "all_data['NumberOfDependents'].mode()[0] #가장많은 순서대로 정렬하는 것 "
   ]
  },
  {
   "cell_type": "code",
   "execution_count": 21,
   "metadata": {
    "execution": {
     "iopub.execute_input": "2021-01-03T12:05:25.022573Z",
     "iopub.status.busy": "2021-01-03T12:05:25.021863Z",
     "iopub.status.idle": "2021-01-03T12:05:25.037979Z",
     "shell.execute_reply": "2021-01-03T12:05:25.038611Z"
    },
    "papermill": {
     "duration": 0.0661,
     "end_time": "2021-01-03T12:05:25.038783",
     "exception": false,
     "start_time": "2021-01-03T12:05:24.972683",
     "status": "completed"
    },
    "tags": []
   },
   "outputs": [
    {
     "data": {
      "text/html": [
       "<div>\n",
       "<style scoped>\n",
       "    .dataframe tbody tr th:only-of-type {\n",
       "        vertical-align: middle;\n",
       "    }\n",
       "\n",
       "    .dataframe tbody tr th {\n",
       "        vertical-align: top;\n",
       "    }\n",
       "\n",
       "    .dataframe thead th {\n",
       "        text-align: right;\n",
       "    }\n",
       "</style>\n",
       "<table border=\"1\" class=\"dataframe\">\n",
       "  <thead>\n",
       "    <tr style=\"text-align: right;\">\n",
       "      <th></th>\n",
       "      <th>NumberOfDependents</th>\n",
       "    </tr>\n",
       "  </thead>\n",
       "  <tbody>\n",
       "    <tr>\n",
       "      <th>0.0</th>\n",
       "      <td>145520</td>\n",
       "    </tr>\n",
       "    <tr>\n",
       "      <th>1.0</th>\n",
       "      <td>43934</td>\n",
       "    </tr>\n",
       "    <tr>\n",
       "      <th>2.0</th>\n",
       "      <td>32820</td>\n",
       "    </tr>\n",
       "    <tr>\n",
       "      <th>3.0</th>\n",
       "      <td>16106</td>\n",
       "    </tr>\n",
       "    <tr>\n",
       "      <th>4.0</th>\n",
       "      <td>4857</td>\n",
       "    </tr>\n",
       "    <tr>\n",
       "      <th>5.0</th>\n",
       "      <td>1272</td>\n",
       "    </tr>\n",
       "    <tr>\n",
       "      <th>6.0</th>\n",
       "      <td>283</td>\n",
       "    </tr>\n",
       "    <tr>\n",
       "      <th>7.0</th>\n",
       "      <td>101</td>\n",
       "    </tr>\n",
       "    <tr>\n",
       "      <th>8.0</th>\n",
       "      <td>40</td>\n",
       "    </tr>\n",
       "    <tr>\n",
       "      <th>9.0</th>\n",
       "      <td>8</td>\n",
       "    </tr>\n",
       "    <tr>\n",
       "      <th>10.0</th>\n",
       "      <td>8</td>\n",
       "    </tr>\n",
       "    <tr>\n",
       "      <th>20.0</th>\n",
       "      <td>2</td>\n",
       "    </tr>\n",
       "    <tr>\n",
       "      <th>13.0</th>\n",
       "      <td>1</td>\n",
       "    </tr>\n",
       "    <tr>\n",
       "      <th>43.0</th>\n",
       "      <td>1</td>\n",
       "    </tr>\n",
       "  </tbody>\n",
       "</table>\n",
       "</div>"
      ],
      "text/plain": [
       "      NumberOfDependents\n",
       "0.0               145520\n",
       "1.0                43934\n",
       "2.0                32820\n",
       "3.0                16106\n",
       "4.0                 4857\n",
       "5.0                 1272\n",
       "6.0                  283\n",
       "7.0                  101\n",
       "8.0                   40\n",
       "9.0                    8\n",
       "10.0                   8\n",
       "20.0                   2\n",
       "13.0                   1\n",
       "43.0                   1"
      ]
     },
     "execution_count": 21,
     "metadata": {},
     "output_type": "execute_result"
    }
   ],
   "source": [
    "count = pd.DataFrame(all_data['NumberOfDependents'].value_counts())\n",
    "count"
   ]
  },
  {
   "cell_type": "code",
   "execution_count": 22,
   "metadata": {
    "execution": {
     "iopub.execute_input": "2021-01-03T12:05:25.135716Z",
     "iopub.status.busy": "2021-01-03T12:05:25.134908Z",
     "iopub.status.idle": "2021-01-03T12:05:25.320955Z",
     "shell.execute_reply": "2021-01-03T12:05:25.321558Z"
    },
    "papermill": {
     "duration": 0.236542,
     "end_time": "2021-01-03T12:05:25.321731",
     "exception": false,
     "start_time": "2021-01-03T12:05:25.085189",
     "status": "completed"
    },
    "tags": []
   },
   "outputs": [
    {
     "data": {
      "text/plain": [
       "(-1.0, 6.0)"
      ]
     },
     "execution_count": 22,
     "metadata": {},
     "output_type": "execute_result"
    },
    {
     "data": {
      "image/png": "[encoded data removed]",
      "text/plain": [
       "<Figure size 720x720 with 1 Axes>"
      ]
     },
     "metadata": {
      "needs_background": "light"
     },
     "output_type": "display_data"
    }
   ],
   "source": [
    "plt.subplots(figsize=(10,10))\n",
    "#plt.bar(list(range(len(count))),count['NumberOfDependents'], align='center')\n",
    "#Seaborn이용해서 하면 됨 (Countplot)\n",
    "sns.countplot(train['NumberOfDependents'])\n",
    "plt.xlim(-1,6)"
   ]
  },
  {
   "cell_type": "code",
   "execution_count": 23,
   "metadata": {
    "execution": {
     "iopub.execute_input": "2021-01-03T12:05:25.423764Z",
     "iopub.status.busy": "2021-01-03T12:05:25.422963Z",
     "iopub.status.idle": "2021-01-03T12:05:25.434797Z",
     "shell.execute_reply": "2021-01-03T12:05:25.435387Z"
    },
    "papermill": {
     "duration": 0.065313,
     "end_time": "2021-01-03T12:05:25.435557",
     "exception": false,
     "start_time": "2021-01-03T12:05:25.370244",
     "status": "completed"
    },
    "tags": []
   },
   "outputs": [],
   "source": [
    "#Question: Mode로 하면 왜 안되지? \n",
    "all_data['MonthlyIncome'] =  all_data['MonthlyIncome'].replace(np.NaN, all_data['MonthlyIncome'].mean())\n",
    "all_data['NumberOfDependents'] =  all_data['NumberOfDependents'].replace(np.NaN,0)"
   ]
  },
  {
   "cell_type": "markdown",
   "metadata": {
    "papermill": {
     "duration": 0.047884,
     "end_time": "2021-01-03T12:05:25.531611",
     "exception": false,
     "start_time": "2021-01-03T12:05:25.483727",
     "status": "completed"
    },
    "tags": []
   },
   "source": [
    "* # Training "
   ]
  },
  {
   "cell_type": "code",
   "execution_count": 24,
   "metadata": {
    "execution": {
     "iopub.execute_input": "2021-01-03T12:05:25.630962Z",
     "iopub.status.busy": "2021-01-03T12:05:25.630221Z",
     "iopub.status.idle": "2021-01-03T12:05:25.647011Z",
     "shell.execute_reply": "2021-01-03T12:05:25.646282Z"
    },
    "papermill": {
     "duration": 0.06771,
     "end_time": "2021-01-03T12:05:25.647191",
     "exception": false,
     "start_time": "2021-01-03T12:05:25.579481",
     "status": "completed"
    },
    "tags": []
   },
   "outputs": [],
   "source": [
    "all_data2 = all_data\n",
    "all_data2 = all_data2.drop(columns=['SeriousDlqin2yrs'])"
   ]
  },
  {
   "cell_type": "code",
   "execution_count": 25,
   "metadata": {
    "execution": {
     "iopub.execute_input": "2021-01-03T12:05:25.751892Z",
     "iopub.status.busy": "2021-01-03T12:05:25.750923Z",
     "iopub.status.idle": "2021-01-03T12:06:09.464806Z",
     "shell.execute_reply": "2021-01-03T12:06:09.464223Z"
    },
    "papermill": {
     "duration": 43.769675,
     "end_time": "2021-01-03T12:06:09.464942",
     "exception": false,
     "start_time": "2021-01-03T12:05:25.695267",
     "status": "completed"
    },
    "tags": []
   },
   "outputs": [],
   "source": [
    "#Random_state 고정해주면 모델 바껴도 계속 이 전 모델 사용?? \n",
    "from sklearn.ensemble import RandomForestClassifier\n",
    "rf = RandomForestClassifier(n_estimators=100)\n",
    "rf.fit(all_data2[:len(train)],all_data[:len(train)]['SeriousDlqin2yrs'])\n",
    "prob = rf.predict_proba(all_data2[len(train):])"
   ]
  },
  {
   "cell_type": "markdown",
   "metadata": {
    "papermill": {
     "duration": 0.04753,
     "end_time": "2021-01-03T12:06:09.560240",
     "exception": false,
     "start_time": "2021-01-03T12:06:09.512710",
     "status": "completed"
    },
    "tags": []
   },
   "source": [
    "#Question: 얼마나 진행됐는지 보여주는 바 그리는 방법"
   ]
  },
  {
   "cell_type": "code",
   "execution_count": 26,
   "metadata": {
    "execution": {
     "iopub.execute_input": "2021-01-03T12:06:09.665426Z",
     "iopub.status.busy": "2021-01-03T12:06:09.664663Z",
     "iopub.status.idle": "2021-01-03T12:06:09.668230Z",
     "shell.execute_reply": "2021-01-03T12:06:09.668800Z"
    },
    "papermill": {
     "duration": 0.061154,
     "end_time": "2021-01-03T12:06:09.669042",
     "exception": false,
     "start_time": "2021-01-03T12:06:09.607888",
     "status": "completed"
    },
    "tags": []
   },
   "outputs": [
    {
     "data": {
      "text/plain": [
       "0         0.03\n",
       "1         0.12\n",
       "2         0.07\n",
       "3         0.19\n",
       "4         0.39\n",
       "          ... \n",
       "101498    0.03\n",
       "101499    0.46\n",
       "101500    0.00\n",
       "101501    0.13\n",
       "101502    0.03\n",
       "Name: 1, Length: 101503, dtype: float64"
      ]
     },
     "execution_count": 26,
     "metadata": {},
     "output_type": "execute_result"
    }
   ],
   "source": [
    "prob = pd.DataFrame(prob)\n",
    "prob = prob[:][1]\n",
    "#prob = prob.to_numpy()\n",
    "\n",
    "prob"
   ]
  },
  {
   "cell_type": "code",
   "execution_count": 27,
   "metadata": {
    "execution": {
     "iopub.execute_input": "2021-01-03T12:06:09.771000Z",
     "iopub.status.busy": "2021-01-03T12:06:09.770233Z",
     "iopub.status.idle": "2021-01-03T12:06:09.773418Z",
     "shell.execute_reply": "2021-01-03T12:06:09.774012Z"
    },
    "papermill": {
     "duration": 0.055976,
     "end_time": "2021-01-03T12:06:09.774197",
     "exception": false,
     "start_time": "2021-01-03T12:06:09.718221",
     "status": "completed"
    },
    "tags": []
   },
   "outputs": [],
   "source": [
    "#all_data[:len(train)]['SeriousDlqin2yrs'].isnull().sum()"
   ]
  },
  {
   "cell_type": "code",
   "execution_count": 28,
   "metadata": {
    "execution": {
     "iopub.execute_input": "2021-01-03T12:06:09.875370Z",
     "iopub.status.busy": "2021-01-03T12:06:09.874598Z",
     "iopub.status.idle": "2021-01-03T12:06:09.877560Z",
     "shell.execute_reply": "2021-01-03T12:06:09.878076Z"
    },
    "papermill": {
     "duration": 0.055499,
     "end_time": "2021-01-03T12:06:09.878250",
     "exception": false,
     "start_time": "2021-01-03T12:06:09.822751",
     "status": "completed"
    },
    "tags": []
   },
   "outputs": [],
   "source": [
    "#train2 = all_data2[:len(train)]\n",
    "#test2 = all_data2[len(train):]"
   ]
  },
  {
   "cell_type": "code",
   "execution_count": 29,
   "metadata": {
    "execution": {
     "iopub.execute_input": "2021-01-03T12:06:09.981055Z",
     "iopub.status.busy": "2021-01-03T12:06:09.980260Z",
     "iopub.status.idle": "2021-01-03T12:06:09.983554Z",
     "shell.execute_reply": "2021-01-03T12:06:09.984065Z"
    },
    "papermill": {
     "duration": 0.056238,
     "end_time": "2021-01-03T12:06:09.984265",
     "exception": false,
     "start_time": "2021-01-03T12:06:09.928027",
     "status": "completed"
    },
    "tags": []
   },
   "outputs": [],
   "source": [
    "#display(train2.isnull().sum(), test2.isnull().sum())"
   ]
  },
  {
   "cell_type": "code",
   "execution_count": 30,
   "metadata": {
    "execution": {
     "iopub.execute_input": "2021-01-03T12:06:10.086115Z",
     "iopub.status.busy": "2021-01-03T12:06:10.084969Z",
     "iopub.status.idle": "2021-01-03T12:06:10.090095Z",
     "shell.execute_reply": "2021-01-03T12:06:10.089436Z"
    },
    "papermill": {
     "duration": 0.057093,
     "end_time": "2021-01-03T12:06:10.090242",
     "exception": false,
     "start_time": "2021-01-03T12:06:10.033149",
     "status": "completed"
    },
    "tags": []
   },
   "outputs": [],
   "source": [
    "#from sklearn.ensemble import RandomForestClassifier\n",
    "#rf = RandomForestClassifier(n_jobs=-1,random_state=234)\n",
    "#rf.fit(train2, train['SeriousDlqin2yrs'])\n",
    "#result = rf.predict(test2)"
   ]
  },
  {
   "cell_type": "code",
   "execution_count": 31,
   "metadata": {
    "execution": {
     "iopub.execute_input": "2021-01-03T12:06:10.196464Z",
     "iopub.status.busy": "2021-01-03T12:06:10.195743Z",
     "iopub.status.idle": "2021-01-03T12:06:10.280401Z",
     "shell.execute_reply": "2021-01-03T12:06:10.279749Z"
    },
    "papermill": {
     "duration": 0.141467,
     "end_time": "2021-01-03T12:06:10.280535",
     "exception": false,
     "start_time": "2021-01-03T12:06:10.139068",
     "status": "completed"
    },
    "tags": []
   },
   "outputs": [],
   "source": [
    "submission = pd.read_csv('/kaggle/input/GiveMeSomeCredit/sampleEntry.csv')"
   ]
  },
  {
   "cell_type": "code",
   "execution_count": 32,
   "metadata": {
    "execution": {
     "iopub.execute_input": "2021-01-03T12:06:10.392047Z",
     "iopub.status.busy": "2021-01-03T12:06:10.391246Z",
     "iopub.status.idle": "2021-01-03T12:06:10.396956Z",
     "shell.execute_reply": "2021-01-03T12:06:10.396367Z"
    },
    "papermill": {
     "duration": 0.0678,
     "end_time": "2021-01-03T12:06:10.397073",
     "exception": false,
     "start_time": "2021-01-03T12:06:10.329273",
     "status": "completed"
    },
    "tags": []
   },
   "outputs": [
    {
     "data": {
      "text/html": [
       "<div>\n",
       "<style scoped>\n",
       "    .dataframe tbody tr th:only-of-type {\n",
       "        vertical-align: middle;\n",
       "    }\n",
       "\n",
       "    .dataframe tbody tr th {\n",
       "        vertical-align: top;\n",
       "    }\n",
       "\n",
       "    .dataframe thead th {\n",
       "        text-align: right;\n",
       "    }\n",
       "</style>\n",
       "<table border=\"1\" class=\"dataframe\">\n",
       "  <thead>\n",
       "    <tr style=\"text-align: right;\">\n",
       "      <th></th>\n",
       "      <th>Id</th>\n",
       "      <th>Probability</th>\n",
       "    </tr>\n",
       "  </thead>\n",
       "  <tbody>\n",
       "    <tr>\n",
       "      <th>0</th>\n",
       "      <td>1</td>\n",
       "      <td>0.080807</td>\n",
       "    </tr>\n",
       "    <tr>\n",
       "      <th>1</th>\n",
       "      <td>2</td>\n",
       "      <td>0.040719</td>\n",
       "    </tr>\n",
       "    <tr>\n",
       "      <th>2</th>\n",
       "      <td>3</td>\n",
       "      <td>0.011968</td>\n",
       "    </tr>\n",
       "    <tr>\n",
       "      <th>3</th>\n",
       "      <td>4</td>\n",
       "      <td>0.067640</td>\n",
       "    </tr>\n",
       "    <tr>\n",
       "      <th>4</th>\n",
       "      <td>5</td>\n",
       "      <td>0.108264</td>\n",
       "    </tr>\n",
       "    <tr>\n",
       "      <th>...</th>\n",
       "      <td>...</td>\n",
       "      <td>...</td>\n",
       "    </tr>\n",
       "    <tr>\n",
       "      <th>101498</th>\n",
       "      <td>101499</td>\n",
       "      <td>0.045363</td>\n",
       "    </tr>\n",
       "    <tr>\n",
       "      <th>101499</th>\n",
       "      <td>101500</td>\n",
       "      <td>0.343775</td>\n",
       "    </tr>\n",
       "    <tr>\n",
       "      <th>101500</th>\n",
       "      <td>101501</td>\n",
       "      <td>0.006970</td>\n",
       "    </tr>\n",
       "    <tr>\n",
       "      <th>101501</th>\n",
       "      <td>101502</td>\n",
       "      <td>0.121994</td>\n",
       "    </tr>\n",
       "    <tr>\n",
       "      <th>101502</th>\n",
       "      <td>101503</td>\n",
       "      <td>0.044248</td>\n",
       "    </tr>\n",
       "  </tbody>\n",
       "</table>\n",
       "<p>101503 rows × 2 columns</p>\n",
       "</div>"
      ],
      "text/plain": [
       "            Id  Probability\n",
       "0            1     0.080807\n",
       "1            2     0.040719\n",
       "2            3     0.011968\n",
       "3            4     0.067640\n",
       "4            5     0.108264\n",
       "...        ...          ...\n",
       "101498  101499     0.045363\n",
       "101499  101500     0.343775\n",
       "101500  101501     0.006970\n",
       "101501  101502     0.121994\n",
       "101502  101503     0.044248\n",
       "\n",
       "[101503 rows x 2 columns]"
      ]
     },
     "execution_count": 32,
     "metadata": {},
     "output_type": "execute_result"
    }
   ],
   "source": [
    "submission"
   ]
  },
  {
   "cell_type": "code",
   "execution_count": 33,
   "metadata": {
    "execution": {
     "iopub.execute_input": "2021-01-03T12:06:10.502699Z",
     "iopub.status.busy": "2021-01-03T12:06:10.501803Z",
     "iopub.status.idle": "2021-01-03T12:06:10.506808Z",
     "shell.execute_reply": "2021-01-03T12:06:10.506141Z"
    },
    "papermill": {
     "duration": 0.059552,
     "end_time": "2021-01-03T12:06:10.506931",
     "exception": false,
     "start_time": "2021-01-03T12:06:10.447379",
     "status": "completed"
    },
    "tags": []
   },
   "outputs": [],
   "source": [
    "submission['Probability'] = prob"
   ]
  },
  {
   "cell_type": "code",
   "execution_count": 34,
   "metadata": {
    "execution": {
     "iopub.execute_input": "2021-01-03T12:06:10.620632Z",
     "iopub.status.busy": "2021-01-03T12:06:10.619690Z",
     "iopub.status.idle": "2021-01-03T12:06:10.624512Z",
     "shell.execute_reply": "2021-01-03T12:06:10.625058Z"
    },
    "papermill": {
     "duration": 0.069167,
     "end_time": "2021-01-03T12:06:10.625223",
     "exception": false,
     "start_time": "2021-01-03T12:06:10.556056",
     "status": "completed"
    },
    "tags": []
   },
   "outputs": [
    {
     "data": {
      "text/html": [
       "<div>\n",
       "<style scoped>\n",
       "    .dataframe tbody tr th:only-of-type {\n",
       "        vertical-align: middle;\n",
       "    }\n",
       "\n",
       "    .dataframe tbody tr th {\n",
       "        vertical-align: top;\n",
       "    }\n",
       "\n",
       "    .dataframe thead th {\n",
       "        text-align: right;\n",
       "    }\n",
       "</style>\n",
       "<table border=\"1\" class=\"dataframe\">\n",
       "  <thead>\n",
       "    <tr style=\"text-align: right;\">\n",
       "      <th></th>\n",
       "      <th>Id</th>\n",
       "      <th>Probability</th>\n",
       "    </tr>\n",
       "  </thead>\n",
       "  <tbody>\n",
       "    <tr>\n",
       "      <th>0</th>\n",
       "      <td>1</td>\n",
       "      <td>0.03</td>\n",
       "    </tr>\n",
       "    <tr>\n",
       "      <th>1</th>\n",
       "      <td>2</td>\n",
       "      <td>0.12</td>\n",
       "    </tr>\n",
       "    <tr>\n",
       "      <th>2</th>\n",
       "      <td>3</td>\n",
       "      <td>0.07</td>\n",
       "    </tr>\n",
       "    <tr>\n",
       "      <th>3</th>\n",
       "      <td>4</td>\n",
       "      <td>0.19</td>\n",
       "    </tr>\n",
       "    <tr>\n",
       "      <th>4</th>\n",
       "      <td>5</td>\n",
       "      <td>0.39</td>\n",
       "    </tr>\n",
       "    <tr>\n",
       "      <th>...</th>\n",
       "      <td>...</td>\n",
       "      <td>...</td>\n",
       "    </tr>\n",
       "    <tr>\n",
       "      <th>101498</th>\n",
       "      <td>101499</td>\n",
       "      <td>0.03</td>\n",
       "    </tr>\n",
       "    <tr>\n",
       "      <th>101499</th>\n",
       "      <td>101500</td>\n",
       "      <td>0.46</td>\n",
       "    </tr>\n",
       "    <tr>\n",
       "      <th>101500</th>\n",
       "      <td>101501</td>\n",
       "      <td>0.00</td>\n",
       "    </tr>\n",
       "    <tr>\n",
       "      <th>101501</th>\n",
       "      <td>101502</td>\n",
       "      <td>0.13</td>\n",
       "    </tr>\n",
       "    <tr>\n",
       "      <th>101502</th>\n",
       "      <td>101503</td>\n",
       "      <td>0.03</td>\n",
       "    </tr>\n",
       "  </tbody>\n",
       "</table>\n",
       "<p>101503 rows × 2 columns</p>\n",
       "</div>"
      ],
      "text/plain": [
       "            Id  Probability\n",
       "0            1         0.03\n",
       "1            2         0.12\n",
       "2            3         0.07\n",
       "3            4         0.19\n",
       "4            5         0.39\n",
       "...        ...          ...\n",
       "101498  101499         0.03\n",
       "101499  101500         0.46\n",
       "101500  101501         0.00\n",
       "101501  101502         0.13\n",
       "101502  101503         0.03\n",
       "\n",
       "[101503 rows x 2 columns]"
      ]
     },
     "execution_count": 34,
     "metadata": {},
     "output_type": "execute_result"
    }
   ],
   "source": [
    "submission"
   ]
  },
  {
   "cell_type": "code",
   "execution_count": 35,
   "metadata": {
    "execution": {
     "iopub.execute_input": "2021-01-03T12:06:10.732010Z",
     "iopub.status.busy": "2021-01-03T12:06:10.731016Z",
     "iopub.status.idle": "2021-01-03T12:06:11.549728Z",
     "shell.execute_reply": "2021-01-03T12:06:11.548976Z"
    },
    "papermill": {
     "duration": 0.874462,
     "end_time": "2021-01-03T12:06:11.549872",
     "exception": false,
     "start_time": "2021-01-03T12:06:10.675410",
     "status": "completed"
    },
    "tags": []
   },
   "outputs": [],
   "source": [
    "submission.to_csv('submission.csv', index=None)"
   ]
  },
  {
   "cell_type": "code",
   "execution_count": 36,
   "metadata": {
    "execution": {
     "iopub.execute_input": "2021-01-03T12:06:11.659312Z",
     "iopub.status.busy": "2021-01-03T12:06:11.658240Z",
     "iopub.status.idle": "2021-01-03T12:06:11.664748Z",
     "shell.execute_reply": "2021-01-03T12:06:11.664061Z"
    },
    "papermill": {
     "duration": 0.063044,
     "end_time": "2021-01-03T12:06:11.664892",
     "exception": false,
     "start_time": "2021-01-03T12:06:11.601848",
     "status": "completed"
    },
    "tags": []
   },
   "outputs": [
    {
     "data": {
      "text/plain": [
       "101503"
      ]
     },
     "metadata": {},
     "output_type": "display_data"
    },
    {
     "data": {
      "text/plain": [
       "101503"
      ]
     },
     "metadata": {},
     "output_type": "display_data"
    }
   ],
   "source": [
    "display(len(test), len(submission))"
   ]
  },
  {
   "cell_type": "code",
   "execution_count": 37,
   "metadata": {
    "execution": {
     "iopub.execute_input": "2021-01-03T12:06:11.783464Z",
     "iopub.status.busy": "2021-01-03T12:06:11.782710Z",
     "iopub.status.idle": "2021-01-03T12:06:11.786725Z",
     "shell.execute_reply": "2021-01-03T12:06:11.786051Z"
    },
    "papermill": {
     "duration": 0.070145,
     "end_time": "2021-01-03T12:06:11.786852",
     "exception": false,
     "start_time": "2021-01-03T12:06:11.716707",
     "status": "completed"
    },
    "tags": []
   },
   "outputs": [
    {
     "data": {
      "text/html": [
       "<div>\n",
       "<style scoped>\n",
       "    .dataframe tbody tr th:only-of-type {\n",
       "        vertical-align: middle;\n",
       "    }\n",
       "\n",
       "    .dataframe tbody tr th {\n",
       "        vertical-align: top;\n",
       "    }\n",
       "\n",
       "    .dataframe thead th {\n",
       "        text-align: right;\n",
       "    }\n",
       "</style>\n",
       "<table border=\"1\" class=\"dataframe\">\n",
       "  <thead>\n",
       "    <tr style=\"text-align: right;\">\n",
       "      <th></th>\n",
       "      <th>Id</th>\n",
       "      <th>Probability</th>\n",
       "    </tr>\n",
       "  </thead>\n",
       "  <tbody>\n",
       "    <tr>\n",
       "      <th>0</th>\n",
       "      <td>1</td>\n",
       "      <td>0.03</td>\n",
       "    </tr>\n",
       "    <tr>\n",
       "      <th>1</th>\n",
       "      <td>2</td>\n",
       "      <td>0.12</td>\n",
       "    </tr>\n",
       "    <tr>\n",
       "      <th>2</th>\n",
       "      <td>3</td>\n",
       "      <td>0.07</td>\n",
       "    </tr>\n",
       "    <tr>\n",
       "      <th>3</th>\n",
       "      <td>4</td>\n",
       "      <td>0.19</td>\n",
       "    </tr>\n",
       "    <tr>\n",
       "      <th>4</th>\n",
       "      <td>5</td>\n",
       "      <td>0.39</td>\n",
       "    </tr>\n",
       "    <tr>\n",
       "      <th>...</th>\n",
       "      <td>...</td>\n",
       "      <td>...</td>\n",
       "    </tr>\n",
       "    <tr>\n",
       "      <th>101498</th>\n",
       "      <td>101499</td>\n",
       "      <td>0.03</td>\n",
       "    </tr>\n",
       "    <tr>\n",
       "      <th>101499</th>\n",
       "      <td>101500</td>\n",
       "      <td>0.46</td>\n",
       "    </tr>\n",
       "    <tr>\n",
       "      <th>101500</th>\n",
       "      <td>101501</td>\n",
       "      <td>0.00</td>\n",
       "    </tr>\n",
       "    <tr>\n",
       "      <th>101501</th>\n",
       "      <td>101502</td>\n",
       "      <td>0.13</td>\n",
       "    </tr>\n",
       "    <tr>\n",
       "      <th>101502</th>\n",
       "      <td>101503</td>\n",
       "      <td>0.03</td>\n",
       "    </tr>\n",
       "  </tbody>\n",
       "</table>\n",
       "<p>101503 rows × 2 columns</p>\n",
       "</div>"
      ],
      "text/plain": [
       "            Id  Probability\n",
       "0            1         0.03\n",
       "1            2         0.12\n",
       "2            3         0.07\n",
       "3            4         0.19\n",
       "4            5         0.39\n",
       "...        ...          ...\n",
       "101498  101499         0.03\n",
       "101499  101500         0.46\n",
       "101500  101501         0.00\n",
       "101501  101502         0.13\n",
       "101502  101503         0.03\n",
       "\n",
       "[101503 rows x 2 columns]"
      ]
     },
     "execution_count": 37,
     "metadata": {},
     "output_type": "execute_result"
    }
   ],
   "source": [
    "submission"
   ]
  },
  {
   "cell_type": "code",
   "execution_count": null,
   "metadata": {
    "papermill": {
     "duration": 0.052366,
     "end_time": "2021-01-03T12:06:11.892222",
     "exception": false,
     "start_time": "2021-01-03T12:06:11.839856",
     "status": "completed"
    },
    "tags": []
   },
   "outputs": [],
   "source": []
  }
 ],
 "metadata": {
  "kernelspec": {
   "display_name": "Python 3",
   "language": "python",
   "name": "python3"
  },
  "language_info": {
   "codemirror_mode": {
    "name": "ipython",
    "version": 3
   },
   "file_extension": ".py",
   "mimetype": "text/x-python",
   "name": "python",
   "nbconvert_exporter": "python",
   "pygments_lexer": "ipython3",
   "version": "3.7.6"
  },
  "papermill": {
   "duration": 60.253996,
   "end_time": "2021-01-03T12:06:12.054243",
   "environment_variables": {},
   "exception": null,
   "input_path": "__notebook__.ipynb",
   "output_path": "__notebook__.ipynb",
   "parameters": {},
   "start_time": "2021-01-03T12:05:11.800247",
   "version": "2.1.0"
  }
 },
 "nbformat": 4,
 "nbformat_minor": 4
}
